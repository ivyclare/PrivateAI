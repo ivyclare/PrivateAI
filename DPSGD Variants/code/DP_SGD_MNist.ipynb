{
  "nbformat": 4,
  "nbformat_minor": 0,
  "metadata": {
    "colab": {
      "name": "Copy of DP_SGD_MNist3.ipynb",
      "provenance": [],
      "collapsed_sections": []
    },
    "kernelspec": {
      "name": "python3",
      "display_name": "Python 3"
    },
    "language_info": {
      "name": "python"
    },
    "accelerator": "GPU",
    "widgets": {
      "application/vnd.jupyter.widget-state+json": {
        "79b595e5a7a64801a7c65b81e71ef22f": {
          "model_module": "@jupyter-widgets/controls",
          "model_name": "HBoxModel",
          "model_module_version": "1.5.0",
          "state": {
            "_view_name": "HBoxView",
            "_dom_classes": [],
            "_model_name": "HBoxModel",
            "_view_module": "@jupyter-widgets/controls",
            "_model_module_version": "1.5.0",
            "_view_count": null,
            "_view_module_version": "1.5.0",
            "box_style": "",
            "layout": "IPY_MODEL_cd3ae60751ee449f902a3daafa90272d",
            "_model_module": "@jupyter-widgets/controls",
            "children": [
              "IPY_MODEL_7963305eeef04b269bc877a05b641465",
              "IPY_MODEL_be5546e4506948adbee4804916b0c6c3",
              "IPY_MODEL_0c1f774d9e5f4b7dae1ce40d59e07724"
            ]
          }
        },
        "cd3ae60751ee449f902a3daafa90272d": {
          "model_module": "@jupyter-widgets/base",
          "model_name": "LayoutModel",
          "model_module_version": "1.2.0",
          "state": {
            "_view_name": "LayoutView",
            "grid_template_rows": null,
            "right": null,
            "justify_content": null,
            "_view_module": "@jupyter-widgets/base",
            "overflow": null,
            "_model_module_version": "1.2.0",
            "_view_count": null,
            "flex_flow": null,
            "width": null,
            "min_width": null,
            "border": null,
            "align_items": null,
            "bottom": null,
            "_model_module": "@jupyter-widgets/base",
            "top": null,
            "grid_column": null,
            "overflow_y": null,
            "overflow_x": null,
            "grid_auto_flow": null,
            "grid_area": null,
            "grid_template_columns": null,
            "flex": null,
            "_model_name": "LayoutModel",
            "justify_items": null,
            "grid_row": null,
            "max_height": null,
            "align_content": null,
            "visibility": null,
            "align_self": null,
            "height": null,
            "min_height": null,
            "padding": null,
            "grid_auto_rows": null,
            "grid_gap": null,
            "max_width": null,
            "order": null,
            "_view_module_version": "1.2.0",
            "grid_template_areas": null,
            "object_position": null,
            "object_fit": null,
            "grid_auto_columns": null,
            "margin": null,
            "display": null,
            "left": null
          }
        },
        "7963305eeef04b269bc877a05b641465": {
          "model_module": "@jupyter-widgets/controls",
          "model_name": "HTMLModel",
          "model_module_version": "1.5.0",
          "state": {
            "_view_name": "HTMLView",
            "style": "IPY_MODEL_d115423741c14f7f877236a3a18f0399",
            "_dom_classes": [],
            "description": "",
            "_model_name": "HTMLModel",
            "placeholder": "​",
            "_view_module": "@jupyter-widgets/controls",
            "_model_module_version": "1.5.0",
            "value": "",
            "_view_count": null,
            "_view_module_version": "1.5.0",
            "description_tooltip": null,
            "_model_module": "@jupyter-widgets/controls",
            "layout": "IPY_MODEL_9bb7825bef574b35a13cc8825ad0849b"
          }
        },
        "be5546e4506948adbee4804916b0c6c3": {
          "model_module": "@jupyter-widgets/controls",
          "model_name": "FloatProgressModel",
          "model_module_version": "1.5.0",
          "state": {
            "_view_name": "ProgressView",
            "style": "IPY_MODEL_62feab62167149539b7ac96e7e6ad544",
            "_dom_classes": [],
            "description": "",
            "_model_name": "FloatProgressModel",
            "bar_style": "success",
            "max": 9912422,
            "_view_module": "@jupyter-widgets/controls",
            "_model_module_version": "1.5.0",
            "value": 9912422,
            "_view_count": null,
            "_view_module_version": "1.5.0",
            "orientation": "horizontal",
            "min": 0,
            "description_tooltip": null,
            "_model_module": "@jupyter-widgets/controls",
            "layout": "IPY_MODEL_67a4f18260894198b5747e3c0fce1aba"
          }
        },
        "0c1f774d9e5f4b7dae1ce40d59e07724": {
          "model_module": "@jupyter-widgets/controls",
          "model_name": "HTMLModel",
          "model_module_version": "1.5.0",
          "state": {
            "_view_name": "HTMLView",
            "style": "IPY_MODEL_c90ee5b4c4b84178b9f8e953a5d5f276",
            "_dom_classes": [],
            "description": "",
            "_model_name": "HTMLModel",
            "placeholder": "​",
            "_view_module": "@jupyter-widgets/controls",
            "_model_module_version": "1.5.0",
            "value": " 9913344/? [00:00&lt;00:00, 37091296.73it/s]",
            "_view_count": null,
            "_view_module_version": "1.5.0",
            "description_tooltip": null,
            "_model_module": "@jupyter-widgets/controls",
            "layout": "IPY_MODEL_427942cd1ece4bf7b98730e7ff976b93"
          }
        },
        "d115423741c14f7f877236a3a18f0399": {
          "model_module": "@jupyter-widgets/controls",
          "model_name": "DescriptionStyleModel",
          "model_module_version": "1.5.0",
          "state": {
            "_view_name": "StyleView",
            "_model_name": "DescriptionStyleModel",
            "description_width": "",
            "_view_module": "@jupyter-widgets/base",
            "_model_module_version": "1.5.0",
            "_view_count": null,
            "_view_module_version": "1.2.0",
            "_model_module": "@jupyter-widgets/controls"
          }
        },
        "9bb7825bef574b35a13cc8825ad0849b": {
          "model_module": "@jupyter-widgets/base",
          "model_name": "LayoutModel",
          "model_module_version": "1.2.0",
          "state": {
            "_view_name": "LayoutView",
            "grid_template_rows": null,
            "right": null,
            "justify_content": null,
            "_view_module": "@jupyter-widgets/base",
            "overflow": null,
            "_model_module_version": "1.2.0",
            "_view_count": null,
            "flex_flow": null,
            "width": null,
            "min_width": null,
            "border": null,
            "align_items": null,
            "bottom": null,
            "_model_module": "@jupyter-widgets/base",
            "top": null,
            "grid_column": null,
            "overflow_y": null,
            "overflow_x": null,
            "grid_auto_flow": null,
            "grid_area": null,
            "grid_template_columns": null,
            "flex": null,
            "_model_name": "LayoutModel",
            "justify_items": null,
            "grid_row": null,
            "max_height": null,
            "align_content": null,
            "visibility": null,
            "align_self": null,
            "height": null,
            "min_height": null,
            "padding": null,
            "grid_auto_rows": null,
            "grid_gap": null,
            "max_width": null,
            "order": null,
            "_view_module_version": "1.2.0",
            "grid_template_areas": null,
            "object_position": null,
            "object_fit": null,
            "grid_auto_columns": null,
            "margin": null,
            "display": null,
            "left": null
          }
        },
        "62feab62167149539b7ac96e7e6ad544": {
          "model_module": "@jupyter-widgets/controls",
          "model_name": "ProgressStyleModel",
          "model_module_version": "1.5.0",
          "state": {
            "_view_name": "StyleView",
            "_model_name": "ProgressStyleModel",
            "description_width": "",
            "_view_module": "@jupyter-widgets/base",
            "_model_module_version": "1.5.0",
            "_view_count": null,
            "_view_module_version": "1.2.0",
            "bar_color": null,
            "_model_module": "@jupyter-widgets/controls"
          }
        },
        "67a4f18260894198b5747e3c0fce1aba": {
          "model_module": "@jupyter-widgets/base",
          "model_name": "LayoutModel",
          "model_module_version": "1.2.0",
          "state": {
            "_view_name": "LayoutView",
            "grid_template_rows": null,
            "right": null,
            "justify_content": null,
            "_view_module": "@jupyter-widgets/base",
            "overflow": null,
            "_model_module_version": "1.2.0",
            "_view_count": null,
            "flex_flow": null,
            "width": null,
            "min_width": null,
            "border": null,
            "align_items": null,
            "bottom": null,
            "_model_module": "@jupyter-widgets/base",
            "top": null,
            "grid_column": null,
            "overflow_y": null,
            "overflow_x": null,
            "grid_auto_flow": null,
            "grid_area": null,
            "grid_template_columns": null,
            "flex": null,
            "_model_name": "LayoutModel",
            "justify_items": null,
            "grid_row": null,
            "max_height": null,
            "align_content": null,
            "visibility": null,
            "align_self": null,
            "height": null,
            "min_height": null,
            "padding": null,
            "grid_auto_rows": null,
            "grid_gap": null,
            "max_width": null,
            "order": null,
            "_view_module_version": "1.2.0",
            "grid_template_areas": null,
            "object_position": null,
            "object_fit": null,
            "grid_auto_columns": null,
            "margin": null,
            "display": null,
            "left": null
          }
        },
        "c90ee5b4c4b84178b9f8e953a5d5f276": {
          "model_module": "@jupyter-widgets/controls",
          "model_name": "DescriptionStyleModel",
          "model_module_version": "1.5.0",
          "state": {
            "_view_name": "StyleView",
            "_model_name": "DescriptionStyleModel",
            "description_width": "",
            "_view_module": "@jupyter-widgets/base",
            "_model_module_version": "1.5.0",
            "_view_count": null,
            "_view_module_version": "1.2.0",
            "_model_module": "@jupyter-widgets/controls"
          }
        },
        "427942cd1ece4bf7b98730e7ff976b93": {
          "model_module": "@jupyter-widgets/base",
          "model_name": "LayoutModel",
          "model_module_version": "1.2.0",
          "state": {
            "_view_name": "LayoutView",
            "grid_template_rows": null,
            "right": null,
            "justify_content": null,
            "_view_module": "@jupyter-widgets/base",
            "overflow": null,
            "_model_module_version": "1.2.0",
            "_view_count": null,
            "flex_flow": null,
            "width": null,
            "min_width": null,
            "border": null,
            "align_items": null,
            "bottom": null,
            "_model_module": "@jupyter-widgets/base",
            "top": null,
            "grid_column": null,
            "overflow_y": null,
            "overflow_x": null,
            "grid_auto_flow": null,
            "grid_area": null,
            "grid_template_columns": null,
            "flex": null,
            "_model_name": "LayoutModel",
            "justify_items": null,
            "grid_row": null,
            "max_height": null,
            "align_content": null,
            "visibility": null,
            "align_self": null,
            "height": null,
            "min_height": null,
            "padding": null,
            "grid_auto_rows": null,
            "grid_gap": null,
            "max_width": null,
            "order": null,
            "_view_module_version": "1.2.0",
            "grid_template_areas": null,
            "object_position": null,
            "object_fit": null,
            "grid_auto_columns": null,
            "margin": null,
            "display": null,
            "left": null
          }
        },
        "d78b9a6867d242788d7408a87252569f": {
          "model_module": "@jupyter-widgets/controls",
          "model_name": "HBoxModel",
          "model_module_version": "1.5.0",
          "state": {
            "_view_name": "HBoxView",
            "_dom_classes": [],
            "_model_name": "HBoxModel",
            "_view_module": "@jupyter-widgets/controls",
            "_model_module_version": "1.5.0",
            "_view_count": null,
            "_view_module_version": "1.5.0",
            "box_style": "",
            "layout": "IPY_MODEL_81d54dbc3d8045689d669d528f1957d7",
            "_model_module": "@jupyter-widgets/controls",
            "children": [
              "IPY_MODEL_1fded5dffaea48edb4ce6bed0e63f05c",
              "IPY_MODEL_5d5a9a66557640b2a166c44b7c6e87cf",
              "IPY_MODEL_ebb6e3819d8146258383e5e793633872"
            ]
          }
        },
        "81d54dbc3d8045689d669d528f1957d7": {
          "model_module": "@jupyter-widgets/base",
          "model_name": "LayoutModel",
          "model_module_version": "1.2.0",
          "state": {
            "_view_name": "LayoutView",
            "grid_template_rows": null,
            "right": null,
            "justify_content": null,
            "_view_module": "@jupyter-widgets/base",
            "overflow": null,
            "_model_module_version": "1.2.0",
            "_view_count": null,
            "flex_flow": null,
            "width": null,
            "min_width": null,
            "border": null,
            "align_items": null,
            "bottom": null,
            "_model_module": "@jupyter-widgets/base",
            "top": null,
            "grid_column": null,
            "overflow_y": null,
            "overflow_x": null,
            "grid_auto_flow": null,
            "grid_area": null,
            "grid_template_columns": null,
            "flex": null,
            "_model_name": "LayoutModel",
            "justify_items": null,
            "grid_row": null,
            "max_height": null,
            "align_content": null,
            "visibility": null,
            "align_self": null,
            "height": null,
            "min_height": null,
            "padding": null,
            "grid_auto_rows": null,
            "grid_gap": null,
            "max_width": null,
            "order": null,
            "_view_module_version": "1.2.0",
            "grid_template_areas": null,
            "object_position": null,
            "object_fit": null,
            "grid_auto_columns": null,
            "margin": null,
            "display": null,
            "left": null
          }
        },
        "1fded5dffaea48edb4ce6bed0e63f05c": {
          "model_module": "@jupyter-widgets/controls",
          "model_name": "HTMLModel",
          "model_module_version": "1.5.0",
          "state": {
            "_view_name": "HTMLView",
            "style": "IPY_MODEL_7b46a31999be479b9334a42774ded0bf",
            "_dom_classes": [],
            "description": "",
            "_model_name": "HTMLModel",
            "placeholder": "​",
            "_view_module": "@jupyter-widgets/controls",
            "_model_module_version": "1.5.0",
            "value": "",
            "_view_count": null,
            "_view_module_version": "1.5.0",
            "description_tooltip": null,
            "_model_module": "@jupyter-widgets/controls",
            "layout": "IPY_MODEL_b8d4af16e3f24ca7a8cd153143dcf6fe"
          }
        },
        "5d5a9a66557640b2a166c44b7c6e87cf": {
          "model_module": "@jupyter-widgets/controls",
          "model_name": "FloatProgressModel",
          "model_module_version": "1.5.0",
          "state": {
            "_view_name": "ProgressView",
            "style": "IPY_MODEL_7207f8f91efb4443ab49ddd3eb7f83fa",
            "_dom_classes": [],
            "description": "",
            "_model_name": "FloatProgressModel",
            "bar_style": "success",
            "max": 28881,
            "_view_module": "@jupyter-widgets/controls",
            "_model_module_version": "1.5.0",
            "value": 28881,
            "_view_count": null,
            "_view_module_version": "1.5.0",
            "orientation": "horizontal",
            "min": 0,
            "description_tooltip": null,
            "_model_module": "@jupyter-widgets/controls",
            "layout": "IPY_MODEL_848cb3d4d2414e68895d69b74ebf8fbc"
          }
        },
        "ebb6e3819d8146258383e5e793633872": {
          "model_module": "@jupyter-widgets/controls",
          "model_name": "HTMLModel",
          "model_module_version": "1.5.0",
          "state": {
            "_view_name": "HTMLView",
            "style": "IPY_MODEL_c4af953b4700449f95c098da2ca9aa3c",
            "_dom_classes": [],
            "description": "",
            "_model_name": "HTMLModel",
            "placeholder": "​",
            "_view_module": "@jupyter-widgets/controls",
            "_model_module_version": "1.5.0",
            "value": " 29696/? [00:00&lt;00:00, 694955.26it/s]",
            "_view_count": null,
            "_view_module_version": "1.5.0",
            "description_tooltip": null,
            "_model_module": "@jupyter-widgets/controls",
            "layout": "IPY_MODEL_dc3401c169e849cfad80f818ac9eb5ad"
          }
        },
        "7b46a31999be479b9334a42774ded0bf": {
          "model_module": "@jupyter-widgets/controls",
          "model_name": "DescriptionStyleModel",
          "model_module_version": "1.5.0",
          "state": {
            "_view_name": "StyleView",
            "_model_name": "DescriptionStyleModel",
            "description_width": "",
            "_view_module": "@jupyter-widgets/base",
            "_model_module_version": "1.5.0",
            "_view_count": null,
            "_view_module_version": "1.2.0",
            "_model_module": "@jupyter-widgets/controls"
          }
        },
        "b8d4af16e3f24ca7a8cd153143dcf6fe": {
          "model_module": "@jupyter-widgets/base",
          "model_name": "LayoutModel",
          "model_module_version": "1.2.0",
          "state": {
            "_view_name": "LayoutView",
            "grid_template_rows": null,
            "right": null,
            "justify_content": null,
            "_view_module": "@jupyter-widgets/base",
            "overflow": null,
            "_model_module_version": "1.2.0",
            "_view_count": null,
            "flex_flow": null,
            "width": null,
            "min_width": null,
            "border": null,
            "align_items": null,
            "bottom": null,
            "_model_module": "@jupyter-widgets/base",
            "top": null,
            "grid_column": null,
            "overflow_y": null,
            "overflow_x": null,
            "grid_auto_flow": null,
            "grid_area": null,
            "grid_template_columns": null,
            "flex": null,
            "_model_name": "LayoutModel",
            "justify_items": null,
            "grid_row": null,
            "max_height": null,
            "align_content": null,
            "visibility": null,
            "align_self": null,
            "height": null,
            "min_height": null,
            "padding": null,
            "grid_auto_rows": null,
            "grid_gap": null,
            "max_width": null,
            "order": null,
            "_view_module_version": "1.2.0",
            "grid_template_areas": null,
            "object_position": null,
            "object_fit": null,
            "grid_auto_columns": null,
            "margin": null,
            "display": null,
            "left": null
          }
        },
        "7207f8f91efb4443ab49ddd3eb7f83fa": {
          "model_module": "@jupyter-widgets/controls",
          "model_name": "ProgressStyleModel",
          "model_module_version": "1.5.0",
          "state": {
            "_view_name": "StyleView",
            "_model_name": "ProgressStyleModel",
            "description_width": "",
            "_view_module": "@jupyter-widgets/base",
            "_model_module_version": "1.5.0",
            "_view_count": null,
            "_view_module_version": "1.2.0",
            "bar_color": null,
            "_model_module": "@jupyter-widgets/controls"
          }
        },
        "848cb3d4d2414e68895d69b74ebf8fbc": {
          "model_module": "@jupyter-widgets/base",
          "model_name": "LayoutModel",
          "model_module_version": "1.2.0",
          "state": {
            "_view_name": "LayoutView",
            "grid_template_rows": null,
            "right": null,
            "justify_content": null,
            "_view_module": "@jupyter-widgets/base",
            "overflow": null,
            "_model_module_version": "1.2.0",
            "_view_count": null,
            "flex_flow": null,
            "width": null,
            "min_width": null,
            "border": null,
            "align_items": null,
            "bottom": null,
            "_model_module": "@jupyter-widgets/base",
            "top": null,
            "grid_column": null,
            "overflow_y": null,
            "overflow_x": null,
            "grid_auto_flow": null,
            "grid_area": null,
            "grid_template_columns": null,
            "flex": null,
            "_model_name": "LayoutModel",
            "justify_items": null,
            "grid_row": null,
            "max_height": null,
            "align_content": null,
            "visibility": null,
            "align_self": null,
            "height": null,
            "min_height": null,
            "padding": null,
            "grid_auto_rows": null,
            "grid_gap": null,
            "max_width": null,
            "order": null,
            "_view_module_version": "1.2.0",
            "grid_template_areas": null,
            "object_position": null,
            "object_fit": null,
            "grid_auto_columns": null,
            "margin": null,
            "display": null,
            "left": null
          }
        },
        "c4af953b4700449f95c098da2ca9aa3c": {
          "model_module": "@jupyter-widgets/controls",
          "model_name": "DescriptionStyleModel",
          "model_module_version": "1.5.0",
          "state": {
            "_view_name": "StyleView",
            "_model_name": "DescriptionStyleModel",
            "description_width": "",
            "_view_module": "@jupyter-widgets/base",
            "_model_module_version": "1.5.0",
            "_view_count": null,
            "_view_module_version": "1.2.0",
            "_model_module": "@jupyter-widgets/controls"
          }
        },
        "dc3401c169e849cfad80f818ac9eb5ad": {
          "model_module": "@jupyter-widgets/base",
          "model_name": "LayoutModel",
          "model_module_version": "1.2.0",
          "state": {
            "_view_name": "LayoutView",
            "grid_template_rows": null,
            "right": null,
            "justify_content": null,
            "_view_module": "@jupyter-widgets/base",
            "overflow": null,
            "_model_module_version": "1.2.0",
            "_view_count": null,
            "flex_flow": null,
            "width": null,
            "min_width": null,
            "border": null,
            "align_items": null,
            "bottom": null,
            "_model_module": "@jupyter-widgets/base",
            "top": null,
            "grid_column": null,
            "overflow_y": null,
            "overflow_x": null,
            "grid_auto_flow": null,
            "grid_area": null,
            "grid_template_columns": null,
            "flex": null,
            "_model_name": "LayoutModel",
            "justify_items": null,
            "grid_row": null,
            "max_height": null,
            "align_content": null,
            "visibility": null,
            "align_self": null,
            "height": null,
            "min_height": null,
            "padding": null,
            "grid_auto_rows": null,
            "grid_gap": null,
            "max_width": null,
            "order": null,
            "_view_module_version": "1.2.0",
            "grid_template_areas": null,
            "object_position": null,
            "object_fit": null,
            "grid_auto_columns": null,
            "margin": null,
            "display": null,
            "left": null
          }
        },
        "bfd4f616d65c40bc9f621cde75937e78": {
          "model_module": "@jupyter-widgets/controls",
          "model_name": "HBoxModel",
          "model_module_version": "1.5.0",
          "state": {
            "_view_name": "HBoxView",
            "_dom_classes": [],
            "_model_name": "HBoxModel",
            "_view_module": "@jupyter-widgets/controls",
            "_model_module_version": "1.5.0",
            "_view_count": null,
            "_view_module_version": "1.5.0",
            "box_style": "",
            "layout": "IPY_MODEL_064cb8c070474ceb934bac2c1499ded1",
            "_model_module": "@jupyter-widgets/controls",
            "children": [
              "IPY_MODEL_75d75caa261843f89212094309b10f07",
              "IPY_MODEL_ee83ca0db4ec4aaa9ec770d0acbacd25",
              "IPY_MODEL_ca29fb053ca6408891aa4f335261167e"
            ]
          }
        },
        "064cb8c070474ceb934bac2c1499ded1": {
          "model_module": "@jupyter-widgets/base",
          "model_name": "LayoutModel",
          "model_module_version": "1.2.0",
          "state": {
            "_view_name": "LayoutView",
            "grid_template_rows": null,
            "right": null,
            "justify_content": null,
            "_view_module": "@jupyter-widgets/base",
            "overflow": null,
            "_model_module_version": "1.2.0",
            "_view_count": null,
            "flex_flow": null,
            "width": null,
            "min_width": null,
            "border": null,
            "align_items": null,
            "bottom": null,
            "_model_module": "@jupyter-widgets/base",
            "top": null,
            "grid_column": null,
            "overflow_y": null,
            "overflow_x": null,
            "grid_auto_flow": null,
            "grid_area": null,
            "grid_template_columns": null,
            "flex": null,
            "_model_name": "LayoutModel",
            "justify_items": null,
            "grid_row": null,
            "max_height": null,
            "align_content": null,
            "visibility": null,
            "align_self": null,
            "height": null,
            "min_height": null,
            "padding": null,
            "grid_auto_rows": null,
            "grid_gap": null,
            "max_width": null,
            "order": null,
            "_view_module_version": "1.2.0",
            "grid_template_areas": null,
            "object_position": null,
            "object_fit": null,
            "grid_auto_columns": null,
            "margin": null,
            "display": null,
            "left": null
          }
        },
        "75d75caa261843f89212094309b10f07": {
          "model_module": "@jupyter-widgets/controls",
          "model_name": "HTMLModel",
          "model_module_version": "1.5.0",
          "state": {
            "_view_name": "HTMLView",
            "style": "IPY_MODEL_9e328dac3c6a4f68a701033868808202",
            "_dom_classes": [],
            "description": "",
            "_model_name": "HTMLModel",
            "placeholder": "​",
            "_view_module": "@jupyter-widgets/controls",
            "_model_module_version": "1.5.0",
            "value": "",
            "_view_count": null,
            "_view_module_version": "1.5.0",
            "description_tooltip": null,
            "_model_module": "@jupyter-widgets/controls",
            "layout": "IPY_MODEL_7779e14a07ef430ba6a0675133a2deb6"
          }
        },
        "ee83ca0db4ec4aaa9ec770d0acbacd25": {
          "model_module": "@jupyter-widgets/controls",
          "model_name": "FloatProgressModel",
          "model_module_version": "1.5.0",
          "state": {
            "_view_name": "ProgressView",
            "style": "IPY_MODEL_292d0a6790134855a7d8043655c4c4d3",
            "_dom_classes": [],
            "description": "",
            "_model_name": "FloatProgressModel",
            "bar_style": "success",
            "max": 1648877,
            "_view_module": "@jupyter-widgets/controls",
            "_model_module_version": "1.5.0",
            "value": 1648877,
            "_view_count": null,
            "_view_module_version": "1.5.0",
            "orientation": "horizontal",
            "min": 0,
            "description_tooltip": null,
            "_model_module": "@jupyter-widgets/controls",
            "layout": "IPY_MODEL_5db3122d7e9c46a9b3eef8f53012ffd5"
          }
        },
        "ca29fb053ca6408891aa4f335261167e": {
          "model_module": "@jupyter-widgets/controls",
          "model_name": "HTMLModel",
          "model_module_version": "1.5.0",
          "state": {
            "_view_name": "HTMLView",
            "style": "IPY_MODEL_81f90ff420bc4d27845b03f150aaa597",
            "_dom_classes": [],
            "description": "",
            "_model_name": "HTMLModel",
            "placeholder": "​",
            "_view_module": "@jupyter-widgets/controls",
            "_model_module_version": "1.5.0",
            "value": " 1649664/? [00:00&lt;00:00, 17000305.44it/s]",
            "_view_count": null,
            "_view_module_version": "1.5.0",
            "description_tooltip": null,
            "_model_module": "@jupyter-widgets/controls",
            "layout": "IPY_MODEL_dbcd0c9db90a4c748654c9dc069cee39"
          }
        },
        "9e328dac3c6a4f68a701033868808202": {
          "model_module": "@jupyter-widgets/controls",
          "model_name": "DescriptionStyleModel",
          "model_module_version": "1.5.0",
          "state": {
            "_view_name": "StyleView",
            "_model_name": "DescriptionStyleModel",
            "description_width": "",
            "_view_module": "@jupyter-widgets/base",
            "_model_module_version": "1.5.0",
            "_view_count": null,
            "_view_module_version": "1.2.0",
            "_model_module": "@jupyter-widgets/controls"
          }
        },
        "7779e14a07ef430ba6a0675133a2deb6": {
          "model_module": "@jupyter-widgets/base",
          "model_name": "LayoutModel",
          "model_module_version": "1.2.0",
          "state": {
            "_view_name": "LayoutView",
            "grid_template_rows": null,
            "right": null,
            "justify_content": null,
            "_view_module": "@jupyter-widgets/base",
            "overflow": null,
            "_model_module_version": "1.2.0",
            "_view_count": null,
            "flex_flow": null,
            "width": null,
            "min_width": null,
            "border": null,
            "align_items": null,
            "bottom": null,
            "_model_module": "@jupyter-widgets/base",
            "top": null,
            "grid_column": null,
            "overflow_y": null,
            "overflow_x": null,
            "grid_auto_flow": null,
            "grid_area": null,
            "grid_template_columns": null,
            "flex": null,
            "_model_name": "LayoutModel",
            "justify_items": null,
            "grid_row": null,
            "max_height": null,
            "align_content": null,
            "visibility": null,
            "align_self": null,
            "height": null,
            "min_height": null,
            "padding": null,
            "grid_auto_rows": null,
            "grid_gap": null,
            "max_width": null,
            "order": null,
            "_view_module_version": "1.2.0",
            "grid_template_areas": null,
            "object_position": null,
            "object_fit": null,
            "grid_auto_columns": null,
            "margin": null,
            "display": null,
            "left": null
          }
        },
        "292d0a6790134855a7d8043655c4c4d3": {
          "model_module": "@jupyter-widgets/controls",
          "model_name": "ProgressStyleModel",
          "model_module_version": "1.5.0",
          "state": {
            "_view_name": "StyleView",
            "_model_name": "ProgressStyleModel",
            "description_width": "",
            "_view_module": "@jupyter-widgets/base",
            "_model_module_version": "1.5.0",
            "_view_count": null,
            "_view_module_version": "1.2.0",
            "bar_color": null,
            "_model_module": "@jupyter-widgets/controls"
          }
        },
        "5db3122d7e9c46a9b3eef8f53012ffd5": {
          "model_module": "@jupyter-widgets/base",
          "model_name": "LayoutModel",
          "model_module_version": "1.2.0",
          "state": {
            "_view_name": "LayoutView",
            "grid_template_rows": null,
            "right": null,
            "justify_content": null,
            "_view_module": "@jupyter-widgets/base",
            "overflow": null,
            "_model_module_version": "1.2.0",
            "_view_count": null,
            "flex_flow": null,
            "width": null,
            "min_width": null,
            "border": null,
            "align_items": null,
            "bottom": null,
            "_model_module": "@jupyter-widgets/base",
            "top": null,
            "grid_column": null,
            "overflow_y": null,
            "overflow_x": null,
            "grid_auto_flow": null,
            "grid_area": null,
            "grid_template_columns": null,
            "flex": null,
            "_model_name": "LayoutModel",
            "justify_items": null,
            "grid_row": null,
            "max_height": null,
            "align_content": null,
            "visibility": null,
            "align_self": null,
            "height": null,
            "min_height": null,
            "padding": null,
            "grid_auto_rows": null,
            "grid_gap": null,
            "max_width": null,
            "order": null,
            "_view_module_version": "1.2.0",
            "grid_template_areas": null,
            "object_position": null,
            "object_fit": null,
            "grid_auto_columns": null,
            "margin": null,
            "display": null,
            "left": null
          }
        },
        "81f90ff420bc4d27845b03f150aaa597": {
          "model_module": "@jupyter-widgets/controls",
          "model_name": "DescriptionStyleModel",
          "model_module_version": "1.5.0",
          "state": {
            "_view_name": "StyleView",
            "_model_name": "DescriptionStyleModel",
            "description_width": "",
            "_view_module": "@jupyter-widgets/base",
            "_model_module_version": "1.5.0",
            "_view_count": null,
            "_view_module_version": "1.2.0",
            "_model_module": "@jupyter-widgets/controls"
          }
        },
        "dbcd0c9db90a4c748654c9dc069cee39": {
          "model_module": "@jupyter-widgets/base",
          "model_name": "LayoutModel",
          "model_module_version": "1.2.0",
          "state": {
            "_view_name": "LayoutView",
            "grid_template_rows": null,
            "right": null,
            "justify_content": null,
            "_view_module": "@jupyter-widgets/base",
            "overflow": null,
            "_model_module_version": "1.2.0",
            "_view_count": null,
            "flex_flow": null,
            "width": null,
            "min_width": null,
            "border": null,
            "align_items": null,
            "bottom": null,
            "_model_module": "@jupyter-widgets/base",
            "top": null,
            "grid_column": null,
            "overflow_y": null,
            "overflow_x": null,
            "grid_auto_flow": null,
            "grid_area": null,
            "grid_template_columns": null,
            "flex": null,
            "_model_name": "LayoutModel",
            "justify_items": null,
            "grid_row": null,
            "max_height": null,
            "align_content": null,
            "visibility": null,
            "align_self": null,
            "height": null,
            "min_height": null,
            "padding": null,
            "grid_auto_rows": null,
            "grid_gap": null,
            "max_width": null,
            "order": null,
            "_view_module_version": "1.2.0",
            "grid_template_areas": null,
            "object_position": null,
            "object_fit": null,
            "grid_auto_columns": null,
            "margin": null,
            "display": null,
            "left": null
          }
        },
        "e03c04057bb84a66845a7dd0bd9f3163": {
          "model_module": "@jupyter-widgets/controls",
          "model_name": "HBoxModel",
          "model_module_version": "1.5.0",
          "state": {
            "_view_name": "HBoxView",
            "_dom_classes": [],
            "_model_name": "HBoxModel",
            "_view_module": "@jupyter-widgets/controls",
            "_model_module_version": "1.5.0",
            "_view_count": null,
            "_view_module_version": "1.5.0",
            "box_style": "",
            "layout": "IPY_MODEL_c8de4f89b0354a3c9c38946d2488dc65",
            "_model_module": "@jupyter-widgets/controls",
            "children": [
              "IPY_MODEL_5c15b6d599de4f84a583aa9b60e1c72e",
              "IPY_MODEL_e1e0f92856eb4b488f0ce6b10b6205bb",
              "IPY_MODEL_8ba0023f8313453db3be0f9b50116400"
            ]
          }
        },
        "c8de4f89b0354a3c9c38946d2488dc65": {
          "model_module": "@jupyter-widgets/base",
          "model_name": "LayoutModel",
          "model_module_version": "1.2.0",
          "state": {
            "_view_name": "LayoutView",
            "grid_template_rows": null,
            "right": null,
            "justify_content": null,
            "_view_module": "@jupyter-widgets/base",
            "overflow": null,
            "_model_module_version": "1.2.0",
            "_view_count": null,
            "flex_flow": null,
            "width": null,
            "min_width": null,
            "border": null,
            "align_items": null,
            "bottom": null,
            "_model_module": "@jupyter-widgets/base",
            "top": null,
            "grid_column": null,
            "overflow_y": null,
            "overflow_x": null,
            "grid_auto_flow": null,
            "grid_area": null,
            "grid_template_columns": null,
            "flex": null,
            "_model_name": "LayoutModel",
            "justify_items": null,
            "grid_row": null,
            "max_height": null,
            "align_content": null,
            "visibility": null,
            "align_self": null,
            "height": null,
            "min_height": null,
            "padding": null,
            "grid_auto_rows": null,
            "grid_gap": null,
            "max_width": null,
            "order": null,
            "_view_module_version": "1.2.0",
            "grid_template_areas": null,
            "object_position": null,
            "object_fit": null,
            "grid_auto_columns": null,
            "margin": null,
            "display": null,
            "left": null
          }
        },
        "5c15b6d599de4f84a583aa9b60e1c72e": {
          "model_module": "@jupyter-widgets/controls",
          "model_name": "HTMLModel",
          "model_module_version": "1.5.0",
          "state": {
            "_view_name": "HTMLView",
            "style": "IPY_MODEL_50d0e26981aa49529007dbc8e148e8d7",
            "_dom_classes": [],
            "description": "",
            "_model_name": "HTMLModel",
            "placeholder": "​",
            "_view_module": "@jupyter-widgets/controls",
            "_model_module_version": "1.5.0",
            "value": "",
            "_view_count": null,
            "_view_module_version": "1.5.0",
            "description_tooltip": null,
            "_model_module": "@jupyter-widgets/controls",
            "layout": "IPY_MODEL_7ae388ea929c4d0184cd7550a0ad3d13"
          }
        },
        "e1e0f92856eb4b488f0ce6b10b6205bb": {
          "model_module": "@jupyter-widgets/controls",
          "model_name": "FloatProgressModel",
          "model_module_version": "1.5.0",
          "state": {
            "_view_name": "ProgressView",
            "style": "IPY_MODEL_33688251de6840e48bfc80c4dfe1d14d",
            "_dom_classes": [],
            "description": "",
            "_model_name": "FloatProgressModel",
            "bar_style": "success",
            "max": 4542,
            "_view_module": "@jupyter-widgets/controls",
            "_model_module_version": "1.5.0",
            "value": 4542,
            "_view_count": null,
            "_view_module_version": "1.5.0",
            "orientation": "horizontal",
            "min": 0,
            "description_tooltip": null,
            "_model_module": "@jupyter-widgets/controls",
            "layout": "IPY_MODEL_bff39b41ac6f4461823132c9a92e65a1"
          }
        },
        "8ba0023f8313453db3be0f9b50116400": {
          "model_module": "@jupyter-widgets/controls",
          "model_name": "HTMLModel",
          "model_module_version": "1.5.0",
          "state": {
            "_view_name": "HTMLView",
            "style": "IPY_MODEL_c26e2269588a414dbbb1aa6466ea30ff",
            "_dom_classes": [],
            "description": "",
            "_model_name": "HTMLModel",
            "placeholder": "​",
            "_view_module": "@jupyter-widgets/controls",
            "_model_module_version": "1.5.0",
            "value": " 5120/? [00:00&lt;00:00, 141584.55it/s]",
            "_view_count": null,
            "_view_module_version": "1.5.0",
            "description_tooltip": null,
            "_model_module": "@jupyter-widgets/controls",
            "layout": "IPY_MODEL_930bfcbcb8894c6a9d71d991e4673629"
          }
        },
        "50d0e26981aa49529007dbc8e148e8d7": {
          "model_module": "@jupyter-widgets/controls",
          "model_name": "DescriptionStyleModel",
          "model_module_version": "1.5.0",
          "state": {
            "_view_name": "StyleView",
            "_model_name": "DescriptionStyleModel",
            "description_width": "",
            "_view_module": "@jupyter-widgets/base",
            "_model_module_version": "1.5.0",
            "_view_count": null,
            "_view_module_version": "1.2.0",
            "_model_module": "@jupyter-widgets/controls"
          }
        },
        "7ae388ea929c4d0184cd7550a0ad3d13": {
          "model_module": "@jupyter-widgets/base",
          "model_name": "LayoutModel",
          "model_module_version": "1.2.0",
          "state": {
            "_view_name": "LayoutView",
            "grid_template_rows": null,
            "right": null,
            "justify_content": null,
            "_view_module": "@jupyter-widgets/base",
            "overflow": null,
            "_model_module_version": "1.2.0",
            "_view_count": null,
            "flex_flow": null,
            "width": null,
            "min_width": null,
            "border": null,
            "align_items": null,
            "bottom": null,
            "_model_module": "@jupyter-widgets/base",
            "top": null,
            "grid_column": null,
            "overflow_y": null,
            "overflow_x": null,
            "grid_auto_flow": null,
            "grid_area": null,
            "grid_template_columns": null,
            "flex": null,
            "_model_name": "LayoutModel",
            "justify_items": null,
            "grid_row": null,
            "max_height": null,
            "align_content": null,
            "visibility": null,
            "align_self": null,
            "height": null,
            "min_height": null,
            "padding": null,
            "grid_auto_rows": null,
            "grid_gap": null,
            "max_width": null,
            "order": null,
            "_view_module_version": "1.2.0",
            "grid_template_areas": null,
            "object_position": null,
            "object_fit": null,
            "grid_auto_columns": null,
            "margin": null,
            "display": null,
            "left": null
          }
        },
        "33688251de6840e48bfc80c4dfe1d14d": {
          "model_module": "@jupyter-widgets/controls",
          "model_name": "ProgressStyleModel",
          "model_module_version": "1.5.0",
          "state": {
            "_view_name": "StyleView",
            "_model_name": "ProgressStyleModel",
            "description_width": "",
            "_view_module": "@jupyter-widgets/base",
            "_model_module_version": "1.5.0",
            "_view_count": null,
            "_view_module_version": "1.2.0",
            "bar_color": null,
            "_model_module": "@jupyter-widgets/controls"
          }
        },
        "bff39b41ac6f4461823132c9a92e65a1": {
          "model_module": "@jupyter-widgets/base",
          "model_name": "LayoutModel",
          "model_module_version": "1.2.0",
          "state": {
            "_view_name": "LayoutView",
            "grid_template_rows": null,
            "right": null,
            "justify_content": null,
            "_view_module": "@jupyter-widgets/base",
            "overflow": null,
            "_model_module_version": "1.2.0",
            "_view_count": null,
            "flex_flow": null,
            "width": null,
            "min_width": null,
            "border": null,
            "align_items": null,
            "bottom": null,
            "_model_module": "@jupyter-widgets/base",
            "top": null,
            "grid_column": null,
            "overflow_y": null,
            "overflow_x": null,
            "grid_auto_flow": null,
            "grid_area": null,
            "grid_template_columns": null,
            "flex": null,
            "_model_name": "LayoutModel",
            "justify_items": null,
            "grid_row": null,
            "max_height": null,
            "align_content": null,
            "visibility": null,
            "align_self": null,
            "height": null,
            "min_height": null,
            "padding": null,
            "grid_auto_rows": null,
            "grid_gap": null,
            "max_width": null,
            "order": null,
            "_view_module_version": "1.2.0",
            "grid_template_areas": null,
            "object_position": null,
            "object_fit": null,
            "grid_auto_columns": null,
            "margin": null,
            "display": null,
            "left": null
          }
        },
        "c26e2269588a414dbbb1aa6466ea30ff": {
          "model_module": "@jupyter-widgets/controls",
          "model_name": "DescriptionStyleModel",
          "model_module_version": "1.5.0",
          "state": {
            "_view_name": "StyleView",
            "_model_name": "DescriptionStyleModel",
            "description_width": "",
            "_view_module": "@jupyter-widgets/base",
            "_model_module_version": "1.5.0",
            "_view_count": null,
            "_view_module_version": "1.2.0",
            "_model_module": "@jupyter-widgets/controls"
          }
        },
        "930bfcbcb8894c6a9d71d991e4673629": {
          "model_module": "@jupyter-widgets/base",
          "model_name": "LayoutModel",
          "model_module_version": "1.2.0",
          "state": {
            "_view_name": "LayoutView",
            "grid_template_rows": null,
            "right": null,
            "justify_content": null,
            "_view_module": "@jupyter-widgets/base",
            "overflow": null,
            "_model_module_version": "1.2.0",
            "_view_count": null,
            "flex_flow": null,
            "width": null,
            "min_width": null,
            "border": null,
            "align_items": null,
            "bottom": null,
            "_model_module": "@jupyter-widgets/base",
            "top": null,
            "grid_column": null,
            "overflow_y": null,
            "overflow_x": null,
            "grid_auto_flow": null,
            "grid_area": null,
            "grid_template_columns": null,
            "flex": null,
            "_model_name": "LayoutModel",
            "justify_items": null,
            "grid_row": null,
            "max_height": null,
            "align_content": null,
            "visibility": null,
            "align_self": null,
            "height": null,
            "min_height": null,
            "padding": null,
            "grid_auto_rows": null,
            "grid_gap": null,
            "max_width": null,
            "order": null,
            "_view_module_version": "1.2.0",
            "grid_template_areas": null,
            "object_position": null,
            "object_fit": null,
            "grid_auto_columns": null,
            "margin": null,
            "display": null,
            "left": null
          }
        }
      }
    }
  },
  "cells": [
    {
      "cell_type": "markdown",
      "source": [
        "# Differential Privacy Variants in Deep Learning\n",
        "\n",
        "- Deep learning models require large volumes of data to produce reasonable results after training. This data may contain sensitive information which can be exposed through the models.  \n",
        "\n",
        "- In this project, we have implemented differential privacy in a deep learning model.  Specifically, we perform experiments with the DP-SGD algorithm using the Gaussian Mechanism, Renyi differential privacy and  zero-concentrated differential privacy using a Convolutional Neural Network (CNN). \n",
        "\n",
        "- We computed our differentially private gradient descent algorithm using the following steps: \n",
        "\n",
        "    1. Calculate gradients for each example (per_sample_gradients)\n",
        "    2. Clip the gradients to have bounded L2 norm \n",
        "    3. Average the clipped gradients\n",
        "    4. Then add noise to the average of the gradients\n",
        "\n",
        "- The main difference between the variants of differential privacy used here is in the scale/amount of noise added. All variants draw noise from the Gaussian probability distribution function. \n",
        "\n",
        "- All experiments have been implemented on the MNIST dataset and their performances evaluated.  \n",
        "\n",
        "- Our results show that with an epsilon/epsilon_bar of 10, Renyi DP achieves the best performance with an accuracy of 68%, followed by zero-concerntrated differential privacy with 67% and finally the gaussian mechanism."
      ],
      "metadata": {
        "id": "YaOlcThcnbhw"
      }
    },
    {
      "cell_type": "code",
      "source": [
        "import torch\n",
        "from torchvision import datasets, transforms\n",
        "from torch.utils.data import Dataset, DataLoader\n",
        "import numpy as np\n",
        "from tqdm import tqdm\n",
        "from torch import nn\n",
        "import torch.nn as nn\n",
        "import torch.nn.functional as F\n",
        "from torch.autograd import Variable\n",
        "import collections\n",
        "import copy\n",
        "\n",
        "# from opacus import PrivacyEngine\n",
        "from torch.nn.utils import clip_grad_norm_\n",
        "\n",
        "device = torch.device(\"cuda\" if torch.cuda.is_available() else \"cpu\")\n",
        "\n",
        "import warnings\n",
        "warnings.simplefilter(\"ignore\")\n",
        "device"
      ],
      "metadata": {
        "id": "cwfNNMSU9Xyh",
        "colab": {
          "base_uri": "https://localhost:8080/"
        },
        "outputId": "f324bc7a-4d53-4e85-b46e-52957cc90d5f"
      },
      "execution_count": 2,
      "outputs": [
        {
          "output_type": "execute_result",
          "data": {
            "text/plain": [
              "device(type='cuda')"
            ]
          },
          "metadata": {},
          "execution_count": 2
        }
      ]
    },
    {
      "cell_type": "code",
      "source": [
        "# Defining Hyperparameters\n",
        "MAX_GRAD_NORM = 0.1 # The maximum L2 norm of per-sample gradients before they are aggregated by the averaging step.\n",
        "EPSILON = 10.0\n",
        "DELTA = 1e-5 # The target δ of the (ϵ,δ)-differential privacy guarantee.\n",
        "EPOCHS = 10 \n",
        "NOISE_MULTIPLIER = 1.3\n",
        "ALPHA = 2\n",
        "RHO = 0.1\n",
        "LR = 1e-3\n",
        "BATCH_SIZE = 600"
      ],
      "metadata": {
        "id": "BZq33GPe9X1Y"
      },
      "execution_count": 3,
      "outputs": []
    },
    {
      "cell_type": "code",
      "source": [
        "train_dataset = datasets.MNIST('../mnist',\n",
        "                   train=True,\n",
        "                   download=True,\n",
        "                   transform=transforms.Compose([transforms.ToTensor(),\n",
        "                                                 transforms.Normalize((0.1307,), (0.3081,)),]),)\n",
        "\n",
        "train_loader = torch.utils.data.DataLoader(\n",
        "                  train_dataset,\n",
        "                  batch_size=BATCH_SIZE,\n",
        "                  )\n",
        "\n",
        "\n",
        "test_dataset =  datasets.MNIST('../mnist', \n",
        "                       train=False, \n",
        "                       transform=transforms.Compose([transforms.ToTensor(), \n",
        "                                                     transforms.Normalize((0.1307,), (0.3081,)),]),)\n",
        "test_loader = torch.utils.data.DataLoader( \n",
        "                    test_dataset, \n",
        "                    batch_size=BATCH_SIZE,\n",
        "                    shuffle=False,\n",
        "                  )"
      ],
      "metadata": {
        "id": "qQl6Lwfs9X4g",
        "colab": {
          "base_uri": "https://localhost:8080/",
          "height": 423,
          "referenced_widgets": [
            "79b595e5a7a64801a7c65b81e71ef22f",
            "cd3ae60751ee449f902a3daafa90272d",
            "7963305eeef04b269bc877a05b641465",
            "be5546e4506948adbee4804916b0c6c3",
            "0c1f774d9e5f4b7dae1ce40d59e07724",
            "d115423741c14f7f877236a3a18f0399",
            "9bb7825bef574b35a13cc8825ad0849b",
            "62feab62167149539b7ac96e7e6ad544",
            "67a4f18260894198b5747e3c0fce1aba",
            "c90ee5b4c4b84178b9f8e953a5d5f276",
            "427942cd1ece4bf7b98730e7ff976b93",
            "d78b9a6867d242788d7408a87252569f",
            "81d54dbc3d8045689d669d528f1957d7",
            "1fded5dffaea48edb4ce6bed0e63f05c",
            "5d5a9a66557640b2a166c44b7c6e87cf",
            "ebb6e3819d8146258383e5e793633872",
            "7b46a31999be479b9334a42774ded0bf",
            "b8d4af16e3f24ca7a8cd153143dcf6fe",
            "7207f8f91efb4443ab49ddd3eb7f83fa",
            "848cb3d4d2414e68895d69b74ebf8fbc",
            "c4af953b4700449f95c098da2ca9aa3c",
            "dc3401c169e849cfad80f818ac9eb5ad",
            "bfd4f616d65c40bc9f621cde75937e78",
            "064cb8c070474ceb934bac2c1499ded1",
            "75d75caa261843f89212094309b10f07",
            "ee83ca0db4ec4aaa9ec770d0acbacd25",
            "ca29fb053ca6408891aa4f335261167e",
            "9e328dac3c6a4f68a701033868808202",
            "7779e14a07ef430ba6a0675133a2deb6",
            "292d0a6790134855a7d8043655c4c4d3",
            "5db3122d7e9c46a9b3eef8f53012ffd5",
            "81f90ff420bc4d27845b03f150aaa597",
            "dbcd0c9db90a4c748654c9dc069cee39",
            "e03c04057bb84a66845a7dd0bd9f3163",
            "c8de4f89b0354a3c9c38946d2488dc65",
            "5c15b6d599de4f84a583aa9b60e1c72e",
            "e1e0f92856eb4b488f0ce6b10b6205bb",
            "8ba0023f8313453db3be0f9b50116400",
            "50d0e26981aa49529007dbc8e148e8d7",
            "7ae388ea929c4d0184cd7550a0ad3d13",
            "33688251de6840e48bfc80c4dfe1d14d",
            "bff39b41ac6f4461823132c9a92e65a1",
            "c26e2269588a414dbbb1aa6466ea30ff",
            "930bfcbcb8894c6a9d71d991e4673629"
          ]
        },
        "outputId": "801f7c2e-9199-473d-8932-08b46355dcc4"
      },
      "execution_count": 4,
      "outputs": [
        {
          "output_type": "stream",
          "name": "stdout",
          "text": [
            "Downloading http://yann.lecun.com/exdb/mnist/train-images-idx3-ubyte.gz\n",
            "Downloading http://yann.lecun.com/exdb/mnist/train-images-idx3-ubyte.gz to ../mnist/MNIST/raw/train-images-idx3-ubyte.gz\n"
          ]
        },
        {
          "output_type": "display_data",
          "data": {
            "application/vnd.jupyter.widget-view+json": {
              "model_id": "79b595e5a7a64801a7c65b81e71ef22f",
              "version_minor": 0,
              "version_major": 2
            },
            "text/plain": [
              "  0%|          | 0/9912422 [00:00<?, ?it/s]"
            ]
          },
          "metadata": {}
        },
        {
          "output_type": "stream",
          "name": "stdout",
          "text": [
            "Extracting ../mnist/MNIST/raw/train-images-idx3-ubyte.gz to ../mnist/MNIST/raw\n",
            "\n",
            "Downloading http://yann.lecun.com/exdb/mnist/train-labels-idx1-ubyte.gz\n",
            "Downloading http://yann.lecun.com/exdb/mnist/train-labels-idx1-ubyte.gz to ../mnist/MNIST/raw/train-labels-idx1-ubyte.gz\n"
          ]
        },
        {
          "output_type": "display_data",
          "data": {
            "application/vnd.jupyter.widget-view+json": {
              "model_id": "d78b9a6867d242788d7408a87252569f",
              "version_minor": 0,
              "version_major": 2
            },
            "text/plain": [
              "  0%|          | 0/28881 [00:00<?, ?it/s]"
            ]
          },
          "metadata": {}
        },
        {
          "output_type": "stream",
          "name": "stdout",
          "text": [
            "Extracting ../mnist/MNIST/raw/train-labels-idx1-ubyte.gz to ../mnist/MNIST/raw\n",
            "\n",
            "Downloading http://yann.lecun.com/exdb/mnist/t10k-images-idx3-ubyte.gz\n",
            "Downloading http://yann.lecun.com/exdb/mnist/t10k-images-idx3-ubyte.gz to ../mnist/MNIST/raw/t10k-images-idx3-ubyte.gz\n"
          ]
        },
        {
          "output_type": "display_data",
          "data": {
            "application/vnd.jupyter.widget-view+json": {
              "model_id": "bfd4f616d65c40bc9f621cde75937e78",
              "version_minor": 0,
              "version_major": 2
            },
            "text/plain": [
              "  0%|          | 0/1648877 [00:00<?, ?it/s]"
            ]
          },
          "metadata": {}
        },
        {
          "output_type": "stream",
          "name": "stdout",
          "text": [
            "Extracting ../mnist/MNIST/raw/t10k-images-idx3-ubyte.gz to ../mnist/MNIST/raw\n",
            "\n",
            "Downloading http://yann.lecun.com/exdb/mnist/t10k-labels-idx1-ubyte.gz\n",
            "Downloading http://yann.lecun.com/exdb/mnist/t10k-labels-idx1-ubyte.gz to ../mnist/MNIST/raw/t10k-labels-idx1-ubyte.gz\n"
          ]
        },
        {
          "output_type": "display_data",
          "data": {
            "application/vnd.jupyter.widget-view+json": {
              "model_id": "e03c04057bb84a66845a7dd0bd9f3163",
              "version_minor": 0,
              "version_major": 2
            },
            "text/plain": [
              "  0%|          | 0/4542 [00:00<?, ?it/s]"
            ]
          },
          "metadata": {}
        },
        {
          "output_type": "stream",
          "name": "stdout",
          "text": [
            "Extracting ../mnist/MNIST/raw/t10k-labels-idx1-ubyte.gz to ../mnist/MNIST/raw\n",
            "\n"
          ]
        }
      ]
    },
    {
      "cell_type": "code",
      "source": [
        "# defining the deep learning classifier\n",
        "class Classifier(nn.Module):\n",
        "    def __init__(self):\n",
        "        super(Classifier, self).__init__()\n",
        "        self.conv1 = nn.Conv2d(1, 16, 8, 2, padding=3)\n",
        "        self.pool = nn.MaxPool2d(2,1)\n",
        "        self.conv2 =  nn.Conv2d(16, 32, 4, 2) \n",
        "        self.fc1 = nn.Linear(32 * 4 * 4, 32)\n",
        "        #self.fc1_drop = nn.Dropout(p=0.4)\n",
        "        self.fc2 = nn.Linear(32,10)\n",
        "        \n",
        "\n",
        "    ## TODO: define the feedforward behavior\n",
        "    def forward(self, x):\n",
        "        x = self.pool(F.relu(self.conv1(x)))\n",
        "        x = self.pool(F.relu(self.conv2(x)))\n",
        "        x = x.view(x.size(0),-1)\n",
        "        x = F.relu(self.fc1(x))\n",
        "        #x = self.fc1_drop(x)\n",
        "        x = self.fc2(x)                \n",
        "        return x"
      ],
      "metadata": {
        "id": "S-nmik841_NT"
      },
      "execution_count": 5,
      "outputs": []
    },
    {
      "cell_type": "code",
      "source": [
        "# compute per example gradient by feeding an example each pass and recording its gradient\n",
        "def per_example_gradient(data, target, model, criterion, g_dict, optimizer):\n",
        "    loss_val = 0\n",
        "    batch_size = data.size()[0]\n",
        "\n",
        "    for i in range(batch_size):\n",
        "        data_i, target_i = data[i].unsqueeze(0), target[i].unsqueeze(0)\n",
        "        output = model(data_i)\n",
        "        loss = criterion(output, target_i)\n",
        "        loss_val += loss.item()\n",
        "        optimizer.zero_grad()\n",
        "        loss.backward()\n",
        "\n",
        "        for name, param in model.named_parameters():\n",
        "            g_dict[name].append(copy.deepcopy(param.grad.data))\n",
        "\n",
        "    return g_dict, loss_val/batch_size"
      ],
      "metadata": {
        "id": "8Ue2FtH9mISk"
      },
      "execution_count": 6,
      "outputs": []
    },
    {
      "cell_type": "code",
      "source": [
        "def santinizer(g_dict, variant, epsilon_iter, device):\n",
        "    # this is the scale of the Gaussian noise to be added to the batch gradient\n",
        "    if(variant == \"rdp\"): # Renyi\n",
        "      sigma = np.sqrt((MAX_GRAD_NORM**2 * ALPHA) / (2 * epsilon_iter))\n",
        "    elif (variant == \"zdp\"): #Zero Concernttrated Gradient\n",
        "      rho_i = epsilon_iter\n",
        "      sigma = np.sqrt((MAX_GRAD_NORM**2) / (2 * rho_i))\n",
        "    elif(variant == \"dp\"): # Regular DP\n",
        "      sigma = MAX_GRAD_NORM * np.sqrt(2*np.log(1.25/DELTA)) / epsilon_iter\n",
        "\n",
        "    batch_size = BATCH_SIZE\n",
        "    noise_dist = torch.distributions.Normal(loc=0.0, scale=sigma*MAX_GRAD_NORM/batch_size)\n",
        "    #noise_dist = torch.distributions.Normal(loc=0.0, scale = sigma)\n",
        "\n",
        "    # compute and clip norm for every sample\n",
        "    for var in g_dict:\n",
        "        gradients = g_dict[var]\n",
        "\n",
        "        assert len(gradients) == batch_size\n",
        "        for i in range(batch_size):\n",
        "            l2_norm = torch.norm(gradients[i]) #norm\n",
        "            inv_norm = max(1.0, l2_norm/MAX_GRAD_NORM)  # clip\n",
        "            gradients[i] = gradients[i] / inv_norm\n",
        "\n",
        "        # Average clipped gradients\n",
        "        g_cat = torch.stack(gradients, dim=0)\n",
        "        g_mean = torch.mean(g_cat, dim=0).to(device) # average grads\n",
        "\n",
        "        # Add noise to average of gradients\n",
        "        noise = noise_dist.sample(g_mean.size()).to(device) \n",
        "        g_dict[var] = g_mean + noise  #add noise\n",
        "    return g_dict\n",
        "\n",
        "def resign_gradient(g_dict, model):\n",
        "    '''\n",
        "    assign gradient from g_dict to model parameter\n",
        "    '''\n",
        "    for name, param in model.named_parameters():\n",
        "        param.grad = g_dict[name]\n",
        "    return model\n",
        "\n",
        "def adjust_learning_rate(optimizer, epoch, init_lr=0.1, saturate_epoch=10, stop_lr=0.052):\n",
        "    '''\n",
        "    linearly adjust learning_rate, accoring to tensorflow's implementation\n",
        "    '''\n",
        "    step = (init_lr - stop_lr) / (saturate_epoch-1)\n",
        "    if epoch < saturate_epoch:\n",
        "        lr = init_lr - step * epoch\n",
        "    else:\n",
        "        lr = stop_lr\n",
        "    for param_group in optimizer.param_groups:\n",
        "            param_group['lr'] = lr"
      ],
      "metadata": {
        "id": "q8w1-z9RmIaC"
      },
      "execution_count": 7,
      "outputs": []
    },
    {
      "cell_type": "code",
      "source": [
        "#  Train model \n",
        "def dp_train(model, train_loader, optimizer, criterion, epsilon, device, variant):\n",
        "    iters = EPOCHS * BATCH_SIZE\n",
        "    epsilon_iter = epsilon / iters\n",
        "    rho_i =  RHO / iters\n",
        "\n",
        "    # train phase\n",
        "    for epoch in tqdm(range(EPOCHS), desc=\"Epoch\", unit=\"epoch\"):\n",
        "        adjust_learning_rate(optimizer, epoch)\n",
        "\n",
        "        for batch_idx, (data, target) in enumerate(train_loader):\n",
        "            data, target =  Variable(data).to(device), Variable(target).to(device)\n",
        "            # computer per sample gradients\n",
        "            g_dict = collections.defaultdict(list)\n",
        "            g_dict, loss_val = per_example_gradient(data, target, model, criterion, g_dict, optimizer)\n",
        "            \n",
        "            # clip and add noise to l2 norm of grads\n",
        "            g_dict = santinizer(g_dict, variant, epsilon_iter, device)\n",
        "\n",
        "            optimizer.zero_grad()\n",
        "\n",
        "            # reset grads\n",
        "            model = resign_gradient(g_dict, model)\n",
        "            optimizer.step()\n",
        "\n",
        "            if batch_idx % 10000 == 0:\n",
        "                output = model(data)\n",
        "                pred = output.data.max(1)[1]\n",
        "                correct = pred.eq(target.data).sum()\n",
        "\n",
        "                print('\\tEpoch {} => Loss: {:.3f} \\tAcc: {:.3f} '.format(epoch, loss_val, correct.item()/BATCH_SIZE))\n",
        "\n",
        "    # test phase\n",
        "    total_acc = dp_test(model, test_loader, criterion)\n",
        "    return model"
      ],
      "metadata": {
        "id": "JEhuHhQpmZGz"
      },
      "execution_count": 8,
      "outputs": []
    },
    {
      "cell_type": "code",
      "source": [
        "# Evaluate model's performance on test dataset\n",
        "def dp_test(model, dataloader, criterion):\n",
        "    test_loss = 0\n",
        "    correct = 0\n",
        "    for data, target in dataloader:\n",
        "        data, target = Variable(data).to(device), Variable(target).to(device)\n",
        "        \n",
        "        output = model(data)\n",
        "        test_loss += criterion(output, target).mean()\n",
        "        pred = output.data.max(1)[1]\n",
        "        correct += pred.eq(target.data).sum()\n",
        "\n",
        "    test_loss /= len(dataloader.dataset)\n",
        "    print(\n",
        "        '\\nTest set: Average loss: {:.4f}, Accuracy: {}/{} ({:.0f}%)\\n'.format(\n",
        "            test_loss, correct, len(dataloader.dataset), 100.0 * correct / len(dataloader.dataset)\n",
        "        )\n",
        "    )\n",
        "\n",
        "    return 100.0 * correct / len(dataloader.dataset)\n"
      ],
      "metadata": {
        "id": "PCgCoMvYmIcN"
      },
      "execution_count": 9,
      "outputs": []
    },
    {
      "cell_type": "markdown",
      "source": [
        "## Training Without Differential Privacy"
      ],
      "metadata": {
        "id": "fqxpxnXwZB3s"
      }
    },
    {
      "cell_type": "code",
      "source": [
        "# training cnn model\n",
        "def train(model, train_loader, optimizer, epoch, device):\n",
        "    model.train()\n",
        "    criterion = nn.CrossEntropyLoss()\n",
        "    losses = []\n",
        "    accs = []\n",
        "    for _batch_idx, (data, target) in enumerate(tqdm(train_loader)):\n",
        "        data, target = data.to(device), target.to(device)\n",
        "        optimizer.zero_grad()\n",
        "        # compute output\n",
        "        output = model(data)\n",
        "        loss = criterion(output, target)\n",
        "\n",
        "        preds = np.argmax(output.detach().cpu().numpy(), axis=1)\n",
        "        labels = target.detach().cpu().numpy()\n",
        "        \n",
        "        # measure accuracy and record loss\n",
        "        acc = accuracy(preds, labels)\n",
        "        losses.append(loss.item())\n",
        "        accs.append(acc)\n",
        "\n",
        "        loss.backward()\n",
        "        optimizer.step()\n",
        "    \n",
        "    print(\n",
        "        f\"Train Epoch: {epoch} \\t\"\n",
        "        f\"Loss: {np.mean(losses):.6f} \"\n",
        "        f\"Accuracy: {np.mean(accs):.6f} \"\n",
        "    )\n",
        "\n",
        "def test(model, test_loader, device):\n",
        "    model.eval()\n",
        "    criterion = nn.CrossEntropyLoss()\n",
        "    losses = []\n",
        "    top1_acc = []\n",
        "    correct = 0\n",
        "    with torch.no_grad():\n",
        "        for images, target in test_loader:\n",
        "            images = images.to(device)\n",
        "            target = target.to(device)\n",
        "\n",
        "            output = model(images)\n",
        "            loss = criterion(output, target)\n",
        "            pred = output.data.max(1)[1]\n",
        "            correct += pred.eq(target.data).sum()\n",
        "            losses.append(loss.item())\n",
        "            \n",
        "    print(\n",
        "        '\\nTest set: Average loss: {:.4f}, Accuracy: {}/{} ({:.0f}%)\\n'.format(\n",
        "            np.mean(losses), correct, len(test_loader.dataset), 100.0 * correct / len(test_loader.dataset)\n",
        "        )\n",
        "    )\n",
        "\n",
        "    return 100.0 * correct / len(test_loader.dataset)\n",
        "\n",
        "def accuracy(preds, labels):\n",
        "    return (preds == labels).mean()"
      ],
      "metadata": {
        "id": "4WDR1QhDZKZ0"
      },
      "execution_count": 33,
      "outputs": []
    },
    {
      "cell_type": "code",
      "source": [
        "%%time\n",
        "basic_model = Classifier()\n",
        "basic_model.to(device)\n",
        "optimizer = torch.optim.SGD(basic_model.parameters(), lr=0.01)\n",
        "for epoch in range(10):\n",
        "    train(basic_model, train_loader, optimizer, epoch, device=\"cuda\") "
      ],
      "metadata": {
        "colab": {
          "base_uri": "https://localhost:8080/"
        },
        "id": "JSdLv4F6bui-",
        "outputId": "943a78cc-64eb-4500-b2dd-dcc9d67353f1"
      },
      "execution_count": 19,
      "outputs": [
        {
          "output_type": "stream",
          "name": "stderr",
          "text": [
            "100%|██████████| 100/100 [00:16<00:00,  6.13it/s]\n"
          ]
        },
        {
          "output_type": "stream",
          "name": "stdout",
          "text": [
            "Train Epoch: 0 \tLoss: 2.238898 Accuracy: 0.306383 \n"
          ]
        },
        {
          "output_type": "stream",
          "name": "stderr",
          "text": [
            "100%|██████████| 100/100 [00:16<00:00,  6.18it/s]\n"
          ]
        },
        {
          "output_type": "stream",
          "name": "stdout",
          "text": [
            "Train Epoch: 1 \tLoss: 1.708992 Accuracy: 0.650467 \n"
          ]
        },
        {
          "output_type": "stream",
          "name": "stderr",
          "text": [
            "100%|██████████| 100/100 [00:16<00:00,  6.09it/s]\n"
          ]
        },
        {
          "output_type": "stream",
          "name": "stdout",
          "text": [
            "Train Epoch: 2 \tLoss: 0.716643 Accuracy: 0.812467 \n"
          ]
        },
        {
          "output_type": "stream",
          "name": "stderr",
          "text": [
            "100%|██████████| 100/100 [00:16<00:00,  5.92it/s]\n"
          ]
        },
        {
          "output_type": "stream",
          "name": "stdout",
          "text": [
            "Train Epoch: 3 \tLoss: 0.421061 Accuracy: 0.880717 \n"
          ]
        },
        {
          "output_type": "stream",
          "name": "stderr",
          "text": [
            "100%|██████████| 100/100 [00:16<00:00,  6.09it/s]\n"
          ]
        },
        {
          "output_type": "stream",
          "name": "stdout",
          "text": [
            "Train Epoch: 4 \tLoss: 0.313345 Accuracy: 0.908433 \n"
          ]
        },
        {
          "output_type": "stream",
          "name": "stderr",
          "text": [
            "100%|██████████| 100/100 [00:16<00:00,  6.12it/s]\n"
          ]
        },
        {
          "output_type": "stream",
          "name": "stdout",
          "text": [
            "Train Epoch: 5 \tLoss: 0.261797 Accuracy: 0.922467 \n"
          ]
        },
        {
          "output_type": "stream",
          "name": "stderr",
          "text": [
            "100%|██████████| 100/100 [00:15<00:00,  6.32it/s]\n"
          ]
        },
        {
          "output_type": "stream",
          "name": "stdout",
          "text": [
            "Train Epoch: 6 \tLoss: 0.229319 Accuracy: 0.931833 \n"
          ]
        },
        {
          "output_type": "stream",
          "name": "stderr",
          "text": [
            "100%|██████████| 100/100 [00:15<00:00,  6.26it/s]\n"
          ]
        },
        {
          "output_type": "stream",
          "name": "stdout",
          "text": [
            "Train Epoch: 7 \tLoss: 0.206112 Accuracy: 0.938217 \n"
          ]
        },
        {
          "output_type": "stream",
          "name": "stderr",
          "text": [
            "100%|██████████| 100/100 [00:16<00:00,  6.02it/s]\n"
          ]
        },
        {
          "output_type": "stream",
          "name": "stdout",
          "text": [
            "Train Epoch: 8 \tLoss: 0.188413 Accuracy: 0.943400 \n"
          ]
        },
        {
          "output_type": "stream",
          "name": "stderr",
          "text": [
            "100%|██████████| 100/100 [00:16<00:00,  5.92it/s]"
          ]
        },
        {
          "output_type": "stream",
          "name": "stdout",
          "text": [
            "Train Epoch: 9 \tLoss: 0.174269 Accuracy: 0.947600 \n",
            "CPU times: user 2min 40s, sys: 2.79 s, total: 2min 42s\n",
            "Wall time: 2min 43s\n"
          ]
        },
        {
          "output_type": "stream",
          "name": "stderr",
          "text": [
            "\n"
          ]
        }
      ]
    },
    {
      "cell_type": "code",
      "source": [
        "acc = test(basic_model, test_loader, device)"
      ],
      "metadata": {
        "colab": {
          "base_uri": "https://localhost:8080/"
        },
        "id": "8xrxwrjXcXi8",
        "outputId": "7c3f1500-0c70-49e0-f061-2e790272a3b9"
      },
      "execution_count": 34,
      "outputs": [
        {
          "output_type": "stream",
          "name": "stdout",
          "text": [
            "\n",
            "Test set: Average loss: 0.1559, Accuracy: 9519/10000 (95%)\n",
            "\n"
          ]
        }
      ]
    },
    {
      "cell_type": "markdown",
      "source": [
        "## Differential Privacy (Gaussian Mechanism)"
      ],
      "metadata": {
        "id": "zjDXVf_RDzWY"
      }
    },
    {
      "cell_type": "code",
      "source": [
        "%%time\n",
        "dp_model = Classifier().to(device)\n",
        "criterion = nn.CrossEntropyLoss(reduce=False)\n",
        "optimizer = torch.optim.SGD(dp_model.parameters(), lr=LR)\n",
        "epsilon = 10\n",
        "\n",
        "dp_model = dp_train(dp_model, train_loader, optimizer, criterion, epsilon, device, \"dp\")"
      ],
      "metadata": {
        "colab": {
          "base_uri": "https://localhost:8080/"
        },
        "id": "3v12hyUd6Bil",
        "outputId": "0a4eb6dd-aa54-45d3-9e70-f68bb16d7114"
      },
      "execution_count": null,
      "outputs": [
        {
          "metadata": {
            "tags": null
          },
          "name": "stderr",
          "output_type": "stream",
          "text": [
            "\rEpoch:   0%|          | 0/10 [00:00<?, ?epoch/s]"
          ]
        },
        {
          "metadata": {
            "tags": null
          },
          "name": "stdout",
          "output_type": "stream",
          "text": [
            "\tEpoch 0 => Loss: 2.319 \tAcc: 0.073 \n"
          ]
        },
        {
          "metadata": {
            "tags": null
          },
          "name": "stderr",
          "output_type": "stream",
          "text": [
            "\rEpoch:  10%|█         | 1/10 [04:01<36:10, 241.19s/epoch]"
          ]
        },
        {
          "metadata": {
            "tags": null
          },
          "name": "stdout",
          "output_type": "stream",
          "text": [
            "\tEpoch 1 => Loss: 2.321 \tAcc: 0.160 \n"
          ]
        },
        {
          "metadata": {
            "tags": null
          },
          "name": "stderr",
          "output_type": "stream",
          "text": [
            "\rEpoch:  20%|██        | 2/10 [08:00<31:58, 239.85s/epoch]"
          ]
        },
        {
          "metadata": {
            "tags": null
          },
          "name": "stdout",
          "output_type": "stream",
          "text": [
            "\tEpoch 2 => Loss: 2.250 \tAcc: 0.138 \n"
          ]
        },
        {
          "metadata": {
            "tags": null
          },
          "name": "stderr",
          "output_type": "stream",
          "text": [
            "\rEpoch:  30%|███       | 3/10 [11:59<27:57, 239.58s/epoch]"
          ]
        },
        {
          "metadata": {
            "tags": null
          },
          "name": "stdout",
          "output_type": "stream",
          "text": [
            "\tEpoch 3 => Loss: 2.221 \tAcc: 0.197 \n"
          ]
        },
        {
          "metadata": {
            "tags": null
          },
          "name": "stderr",
          "output_type": "stream",
          "text": [
            "\rEpoch:  40%|████      | 4/10 [15:58<23:56, 239.48s/epoch]"
          ]
        },
        {
          "metadata": {
            "tags": null
          },
          "name": "stdout",
          "output_type": "stream",
          "text": [
            "\tEpoch 4 => Loss: 2.218 \tAcc: 0.258 \n"
          ]
        },
        {
          "metadata": {
            "tags": null
          },
          "name": "stderr",
          "output_type": "stream",
          "text": [
            "\rEpoch:  50%|█████     | 5/10 [19:58<19:57, 239.58s/epoch]"
          ]
        },
        {
          "metadata": {
            "tags": null
          },
          "name": "stdout",
          "output_type": "stream",
          "text": [
            "\tEpoch 5 => Loss: 2.279 \tAcc: 0.250 \n"
          ]
        },
        {
          "metadata": {
            "tags": null
          },
          "name": "stderr",
          "output_type": "stream",
          "text": [
            "\rEpoch:  60%|██████    | 6/10 [23:59<15:59, 239.94s/epoch]"
          ]
        },
        {
          "metadata": {
            "tags": null
          },
          "name": "stdout",
          "output_type": "stream",
          "text": [
            "\tEpoch 6 => Loss: 2.259 \tAcc: 0.270 \n"
          ]
        },
        {
          "metadata": {
            "tags": null
          },
          "name": "stderr",
          "output_type": "stream",
          "text": [
            "\rEpoch:  70%|███████   | 7/10 [27:56<11:57, 239.19s/epoch]"
          ]
        },
        {
          "metadata": {
            "tags": null
          },
          "name": "stdout",
          "output_type": "stream",
          "text": [
            "\tEpoch 7 => Loss: 2.253 \tAcc: 0.265 \n"
          ]
        },
        {
          "metadata": {
            "tags": null
          },
          "name": "stderr",
          "output_type": "stream",
          "text": [
            "\rEpoch:  80%|████████  | 8/10 [31:54<07:57, 238.64s/epoch]"
          ]
        },
        {
          "metadata": {
            "tags": null
          },
          "name": "stdout",
          "output_type": "stream",
          "text": [
            "\tEpoch 8 => Loss: 2.219 \tAcc: 0.273 \n"
          ]
        }
      ]
    },
    {
      "cell_type": "code",
      "source": [
        "total_acc = dp_test(dp_model, test_loader, criterion)"
      ],
      "metadata": {
        "id": "2aLm4zp36B-Y",
        "colab": {
          "base_uri": "https://localhost:8080/"
        },
        "outputId": "b2eeb03e-a5c3-43b5-a61a-414c79b890ac"
      },
      "execution_count": null,
      "outputs": [
        {
          "output_type": "stream",
          "name": "stdout",
          "text": [
            "\n",
            "Test set: Average loss: 0.0035, Accuracy: 3069/10000 (31%)\n",
            "\n"
          ]
        }
      ]
    },
    {
      "cell_type": "markdown",
      "source": [
        "## Renyi Differential Privacy"
      ],
      "metadata": {
        "id": "RYseJv9iKNYY"
      }
    },
    {
      "cell_type": "code",
      "source": [
        "%%time\n",
        "rdp_model = Classifier().to(device)\n",
        "criterion = nn.CrossEntropyLoss(reduce=False)\n",
        "optimizer = torch.optim.SGD(rdp_model.parameters(), lr=LR)\n",
        "epsilon = 10\n",
        "\n",
        "rdp_model = dp_train(rdp_model, train_loader, optimizer, criterion, epsilon, device, \"rdp\")"
      ],
      "metadata": {
        "id": "96DtG3xf3rrT",
        "outputId": "0f7e188d-4e57-46ed-bf68-2221ff0aa789",
        "colab": {
          "base_uri": "https://localhost:8080/"
        }
      },
      "execution_count": null,
      "outputs": [
        {
          "metadata": {
            "tags": null
          },
          "name": "stderr",
          "output_type": "stream",
          "text": [
            "\rEpoch:   0%|          | 0/10 [00:00<?, ?epoch/s]"
          ]
        },
        {
          "metadata": {
            "tags": null
          },
          "name": "stdout",
          "output_type": "stream",
          "text": [
            "\tEpoch 0 => Loss: 2.326 \tAcc: 0.093 \n"
          ]
        },
        {
          "metadata": {
            "tags": null
          },
          "name": "stderr",
          "output_type": "stream",
          "text": [
            "\rEpoch:  10%|█         | 1/10 [04:02<36:21, 242.41s/epoch]"
          ]
        },
        {
          "metadata": {
            "tags": null
          },
          "name": "stdout",
          "output_type": "stream",
          "text": [
            "\tEpoch 1 => Loss: 2.277 \tAcc: 0.220 \n"
          ]
        },
        {
          "metadata": {
            "tags": null
          },
          "name": "stderr",
          "output_type": "stream",
          "text": [
            "\rEpoch:  20%|██        | 2/10 [08:03<32:11, 241.39s/epoch]"
          ]
        },
        {
          "metadata": {
            "tags": null
          },
          "name": "stdout",
          "output_type": "stream",
          "text": [
            "\tEpoch 2 => Loss: 2.223 \tAcc: 0.323 \n"
          ]
        },
        {
          "metadata": {
            "tags": null
          },
          "name": "stderr",
          "output_type": "stream",
          "text": [
            "\rEpoch:  30%|███       | 3/10 [12:04<28:10, 241.53s/epoch]"
          ]
        },
        {
          "metadata": {
            "tags": null
          },
          "name": "stdout",
          "output_type": "stream",
          "text": [
            "\tEpoch 3 => Loss: 2.137 \tAcc: 0.452 \n"
          ]
        },
        {
          "metadata": {
            "tags": null
          },
          "name": "stderr",
          "output_type": "stream",
          "text": [
            "\rEpoch:  40%|████      | 4/10 [16:07<24:11, 241.99s/epoch]"
          ]
        },
        {
          "metadata": {
            "tags": null
          },
          "name": "stdout",
          "output_type": "stream",
          "text": [
            "\tEpoch 4 => Loss: 2.010 \tAcc: 0.542 \n"
          ]
        },
        {
          "metadata": {
            "tags": null
          },
          "name": "stderr",
          "output_type": "stream",
          "text": [
            "\rEpoch:  50%|█████     | 5/10 [20:11<20:13, 242.64s/epoch]"
          ]
        },
        {
          "metadata": {
            "tags": null
          },
          "name": "stdout",
          "output_type": "stream",
          "text": [
            "\tEpoch 5 => Loss: 1.838 \tAcc: 0.630 \n"
          ]
        },
        {
          "metadata": {
            "tags": null
          },
          "name": "stderr",
          "output_type": "stream",
          "text": [
            "\rEpoch:  60%|██████    | 6/10 [24:13<16:10, 242.62s/epoch]"
          ]
        },
        {
          "metadata": {
            "tags": null
          },
          "name": "stdout",
          "output_type": "stream",
          "text": [
            "\tEpoch 6 => Loss: 1.637 \tAcc: 0.677 \n"
          ]
        }
      ]
    },
    {
      "cell_type": "code",
      "source": [
        "rdp_total_acc = dp_test(rdp_model, test_loader, criterion)"
      ],
      "metadata": {
        "id": "mwZzEHni3tzd",
        "colab": {
          "base_uri": "https://localhost:8080/"
        },
        "outputId": "55ced1f3-3b82-4b5c-cdd9-9576e38861fb"
      },
      "execution_count": null,
      "outputs": [
        {
          "output_type": "stream",
          "name": "stdout",
          "text": [
            "\n",
            "Test set: Average loss: 0.0018, Accuracy: 6757/10000 (68%)\n",
            "\n"
          ]
        }
      ]
    },
    {
      "cell_type": "markdown",
      "source": [
        "## Zero Concerntrated Differential Privacy"
      ],
      "metadata": {
        "id": "S3AEeERlLeEo"
      }
    },
    {
      "cell_type": "code",
      "source": [
        "%%time\n",
        "zdp_model = Classifier().to(device)\n",
        "criterion = nn.CrossEntropyLoss(reduce=False)\n",
        "optimizer = torch.optim.SGD(zdp_model.parameters(), lr=LR)\n",
        "epsilon = 10\n",
        "\n",
        "zdp_model = dp_train(zdp_model, train_loader, optimizer, criterion, epsilon, device, \"zdp\")\n"
      ],
      "metadata": {
        "id": "ZMFQEFswA4CX",
        "colab": {
          "base_uri": "https://localhost:8080/"
        },
        "outputId": "1b59bcb8-5ba7-4d2e-d227-5a38a3ce82f7"
      },
      "execution_count": null,
      "outputs": [
        {
          "metadata": {
            "tags": null
          },
          "name": "stderr",
          "output_type": "stream",
          "text": [
            "\rEpoch:   0%|          | 0/10 [00:00<?, ?epoch/s]"
          ]
        },
        {
          "metadata": {
            "tags": null
          },
          "name": "stdout",
          "output_type": "stream",
          "text": [
            "\tEpoch 0 => Loss: 2.313 \tAcc: 0.107 \n"
          ]
        },
        {
          "metadata": {
            "tags": null
          },
          "name": "stderr",
          "output_type": "stream",
          "text": [
            "\rEpoch:  10%|█         | 1/10 [04:01<36:10, 241.21s/epoch]"
          ]
        },
        {
          "metadata": {
            "tags": null
          },
          "name": "stdout",
          "output_type": "stream",
          "text": [
            "\tEpoch 1 => Loss: 2.272 \tAcc: 0.145 \n"
          ]
        },
        {
          "metadata": {
            "tags": null
          },
          "name": "stderr",
          "output_type": "stream",
          "text": [
            "\rEpoch:  20%|██        | 2/10 [08:03<32:15, 241.97s/epoch]"
          ]
        },
        {
          "metadata": {
            "tags": null
          },
          "name": "stdout",
          "output_type": "stream",
          "text": [
            "\tEpoch 2 => Loss: 2.224 \tAcc: 0.238 \n"
          ]
        },
        {
          "metadata": {
            "tags": null
          },
          "name": "stderr",
          "output_type": "stream",
          "text": [
            "\rEpoch:  30%|███       | 3/10 [12:06<28:14, 242.13s/epoch]"
          ]
        },
        {
          "metadata": {
            "tags": null
          },
          "name": "stdout",
          "output_type": "stream",
          "text": [
            "\tEpoch 3 => Loss: 2.151 \tAcc: 0.323 \n"
          ]
        },
        {
          "metadata": {
            "tags": null
          },
          "name": "stderr",
          "output_type": "stream",
          "text": [
            "\rEpoch:  40%|████      | 4/10 [16:07<24:12, 242.04s/epoch]"
          ]
        },
        {
          "metadata": {
            "tags": null
          },
          "name": "stdout",
          "output_type": "stream",
          "text": [
            "\tEpoch 4 => Loss: 2.050 \tAcc: 0.470 \n"
          ]
        },
        {
          "metadata": {
            "tags": null
          },
          "name": "stderr",
          "output_type": "stream",
          "text": [
            "\rEpoch:  50%|█████     | 5/10 [20:09<20:08, 241.79s/epoch]"
          ]
        },
        {
          "metadata": {
            "tags": null
          },
          "name": "stdout",
          "output_type": "stream",
          "text": [
            "\tEpoch 5 => Loss: 1.920 \tAcc: 0.637 \n"
          ]
        },
        {
          "metadata": {
            "tags": null
          },
          "name": "stderr",
          "output_type": "stream",
          "text": [
            "\rEpoch:  60%|██████    | 6/10 [24:11<16:07, 241.94s/epoch]"
          ]
        },
        {
          "metadata": {
            "tags": null
          },
          "name": "stdout",
          "output_type": "stream",
          "text": [
            "\tEpoch 6 => Loss: 1.772 \tAcc: 0.678 \n"
          ]
        },
        {
          "output_type": "stream",
          "name": "stderr",
          "text": [
            "\rEpoch:  70%|███████   | 7/10 [28:11<12:03, 241.25s/epoch]"
          ]
        },
        {
          "output_type": "stream",
          "name": "stdout",
          "text": [
            "\tEpoch 7 => Loss: 1.625 \tAcc: 0.680 \n"
          ]
        },
        {
          "output_type": "stream",
          "name": "stderr",
          "text": [
            "\rEpoch:  80%|████████  | 8/10 [32:09<08:00, 240.26s/epoch]"
          ]
        },
        {
          "output_type": "stream",
          "name": "stdout",
          "text": [
            "\tEpoch 8 => Loss: 1.494 \tAcc: 0.667 \n"
          ]
        },
        {
          "output_type": "stream",
          "name": "stderr",
          "text": [
            "\rEpoch:  90%|█████████ | 9/10 [36:08<03:59, 239.74s/epoch]"
          ]
        },
        {
          "output_type": "stream",
          "name": "stdout",
          "text": [
            "\tEpoch 9 => Loss: 1.384 \tAcc: 0.670 \n"
          ]
        },
        {
          "output_type": "stream",
          "name": "stderr",
          "text": [
            "Epoch: 100%|██████████| 10/10 [40:06<00:00, 240.68s/epoch]\n"
          ]
        },
        {
          "output_type": "stream",
          "name": "stdout",
          "text": [
            "\n",
            "Test set: Average loss: 0.0022, Accuracy: 6661/10000 (67%)\n",
            "\n",
            "CPU times: user 39min 26s, sys: 56.5 s, total: 40min 23s\n",
            "Wall time: 40min 8s\n"
          ]
        }
      ]
    },
    {
      "cell_type": "code",
      "source": [
        "zdp_total_acc = dp_test(zdp_model, test_loader, criterion)"
      ],
      "metadata": {
        "id": "y-AmR-YBLn_C",
        "colab": {
          "base_uri": "https://localhost:8080/"
        },
        "outputId": "2d073bff-00e3-40b3-a193-4a3eb32eea16"
      },
      "execution_count": null,
      "outputs": [
        {
          "output_type": "stream",
          "name": "stdout",
          "text": [
            "\n",
            "Test set: Average loss: 0.0022, Accuracy: 6661/10000 (67%)\n",
            "\n"
          ]
        }
      ]
    },
    {
      "cell_type": "markdown",
      "source": [
        "### DP For a Very High Value of Epsilon"
      ],
      "metadata": {
        "id": "qs5tRgNRLwSg"
      }
    },
    {
      "cell_type": "code",
      "source": [
        "%%time\n",
        "dp_model = Classifier().to(device)\n",
        "criterion = nn.CrossEntropyLoss(reduce=False)\n",
        "optimizer = torch.optim.SGD(dp_model.parameters(), lr=LR)\n",
        "epsilon = 600 # equal to batch size\n",
        "\n",
        "dp_model= dp_train(dp_model, train_loader, optimizer, criterion, epsilon, device, \"dp\")\n"
      ],
      "metadata": {
        "colab": {
          "base_uri": "https://localhost:8080/"
        },
        "id": "aWr6yFxHmZBb",
        "outputId": "e2d57c29-b23a-4662-823a-815472ba8b4d"
      },
      "execution_count": null,
      "outputs": [
        {
          "output_type": "stream",
          "name": "stderr",
          "text": [
            "\rEpoch:   0%|          | 0/10 [00:00<?, ?epoch/s]"
          ]
        },
        {
          "output_type": "stream",
          "name": "stdout",
          "text": [
            "\n",
            "\n",
            "Loss: 2.323 \tAcc: 0.103 \n"
          ]
        },
        {
          "output_type": "stream",
          "name": "stderr",
          "text": [
            "\rEpoch:  10%|█         | 1/10 [04:29<40:28, 269.86s/epoch]"
          ]
        },
        {
          "output_type": "stream",
          "name": "stdout",
          "text": [
            "\n",
            "\n",
            "Loss: 0.373 \tAcc: 0.908 \n"
          ]
        },
        {
          "output_type": "stream",
          "name": "stderr",
          "text": [
            "\rEpoch:  20%|██        | 2/10 [08:57<35:49, 268.67s/epoch]"
          ]
        },
        {
          "output_type": "stream",
          "name": "stdout",
          "text": [
            "\n",
            "\n",
            "Loss: 0.227 \tAcc: 0.945 \n"
          ]
        },
        {
          "output_type": "stream",
          "name": "stderr",
          "text": [
            "\rEpoch:  30%|███       | 3/10 [13:25<31:17, 268.15s/epoch]"
          ]
        },
        {
          "output_type": "stream",
          "name": "stdout",
          "text": [
            "\n",
            "\n",
            "Loss: 0.202 \tAcc: 0.952 \n"
          ]
        },
        {
          "output_type": "stream",
          "name": "stderr",
          "text": [
            "\rEpoch:  40%|████      | 4/10 [17:53<26:49, 268.26s/epoch]"
          ]
        },
        {
          "output_type": "stream",
          "name": "stdout",
          "text": [
            "\n",
            "\n",
            "Loss: 0.186 \tAcc: 0.962 \n"
          ]
        },
        {
          "output_type": "stream",
          "name": "stderr",
          "text": [
            "\rEpoch:  50%|█████     | 5/10 [22:28<22:32, 270.47s/epoch]"
          ]
        },
        {
          "output_type": "stream",
          "name": "stdout",
          "text": [
            "\n",
            "\n",
            "Loss: 0.178 \tAcc: 0.962 \n"
          ]
        },
        {
          "output_type": "stream",
          "name": "stderr",
          "text": [
            "\rEpoch:  60%|██████    | 6/10 [27:03<18:08, 272.22s/epoch]"
          ]
        },
        {
          "output_type": "stream",
          "name": "stdout",
          "text": [
            "\n",
            "\n",
            "Loss: 0.173 \tAcc: 0.960 \n"
          ]
        },
        {
          "output_type": "stream",
          "name": "stderr",
          "text": [
            "\rEpoch:  70%|███████   | 7/10 [31:38<13:39, 273.02s/epoch]"
          ]
        },
        {
          "output_type": "stream",
          "name": "stdout",
          "text": [
            "\n",
            "\n",
            "Loss: 0.162 \tAcc: 0.960 \n"
          ]
        },
        {
          "output_type": "stream",
          "name": "stderr",
          "text": [
            "\rEpoch:  80%|████████  | 8/10 [36:14<09:08, 274.11s/epoch]"
          ]
        },
        {
          "output_type": "stream",
          "name": "stdout",
          "text": [
            "\n",
            "\n",
            "Loss: 0.156 \tAcc: 0.965 \n"
          ]
        },
        {
          "output_type": "stream",
          "name": "stderr",
          "text": [
            "\rEpoch:  90%|█████████ | 9/10 [40:38<04:30, 270.95s/epoch]"
          ]
        },
        {
          "output_type": "stream",
          "name": "stdout",
          "text": [
            "\n",
            "\n",
            "Loss: 0.149 \tAcc: 0.967 \n"
          ]
        },
        {
          "output_type": "stream",
          "name": "stderr",
          "text": [
            "Epoch: 100%|██████████| 10/10 [45:04<00:00, 270.47s/epoch]\n"
          ]
        },
        {
          "output_type": "stream",
          "name": "stdout",
          "text": [
            "\n",
            "Test set: Average loss: 0.0002, Accuracy: 9693/10000 (97%)\n",
            "\n",
            "CPU times: user 44min 15s, sys: 1min 7s, total: 45min 23s\n",
            "Wall time: 45min 9s\n"
          ]
        }
      ]
    },
    {
      "cell_type": "markdown",
      "source": [
        "## Multiple Epsilons and Epsilon_bar\n",
        "\n",
        "Could not finish running code on time. We used Google Colab for our experiments and we were logged out before the entire code could run. \n",
        "\n",
        "The code ran for several values of epsilon in DP-SGD with the Gaussian mechanism. We can see that the accuracy increases as epsilon/epsilon_bar increases. However, the privacy decreases."
      ],
      "metadata": {
        "id": "fpCh_pZLMPag"
      }
    },
    {
      "cell_type": "code",
      "source": [
        "# def build_model(model, epochs=10, batch_size=600, learning_rate=0.1, C=4.0, sigma=2.0):\n",
        "def trains( train_loader, optimizer, criterion, epsilon, device, variant):\n",
        "    \n",
        "    model = Classifier().to(device)\n",
        "    criterion = nn.CrossEntropyLoss(reduction='none')\n",
        "    optimizer = torch.optim.SGD(model.parameters(), lr=LR)\n",
        "\n",
        "\n",
        "    iters = EPOCHS * BATCH_SIZE\n",
        "    epsilon_iter = epsilon / iters\n",
        "    rho_i =  RHO / iters\n",
        "\n",
        "    # train phase\n",
        "    #for epoch in range(EPOCHS):\n",
        "    for epoch in tqdm(range(EPOCHS), desc=\"Epoch\", unit=\"epoch\"):\n",
        "        adjust_learning_rate(optimizer, epoch)\n",
        "\n",
        "        for batch_idx, (data, target) in enumerate(train_loader):\n",
        "            data, target =  Variable(data).to(device), Variable(target).to(device)\n",
        "            # computer per sample gradients\n",
        "            g_dict = collections.defaultdict(list)\n",
        "            g_dict, loss_val = per_example_gradient(data, target, model, criterion, g_dict, optimizer)\n",
        "            \n",
        "            # clip and add noise to l2 norm of grads\n",
        "            #g_dict = santinizer(g_dict, C, sigma, BATCH_SIZE, device)\n",
        "            g_dict = santinizer(g_dict, variant, epsilon_iter, device)\n",
        "\n",
        "            optimizer.zero_grad()\n",
        "\n",
        "            # reset grads\n",
        "            model = resign_gradient(g_dict, model)\n",
        "            optimizer.step()\n",
        "\n",
        "            if batch_idx % 10000 == 0:\n",
        "                output = model(data)\n",
        "                pred = output.data.max(1)[1]\n",
        "                correct = pred.eq(target.data).sum()\n",
        "\n",
        "                print('\\tEpoch {} => Loss: {:.3f} \\tAcc: {:.3f} '.format(epoch, loss_val, correct.item()/BATCH_SIZE))\n",
        "        \n",
        "\n",
        "    # test phase\n",
        "    total_acc = dp_test(model, test_loader, criterion)\n",
        "    return model"
      ],
      "metadata": {
        "id": "bW1GPUy4t2LC"
      },
      "execution_count": 10,
      "outputs": []
    },
    {
      "cell_type": "code",
      "source": [
        "# Save results to google drive incase we are logged out.\n",
        "import numpy as np\n",
        "from numpy import savetxt\n",
        "from google.colab import drive\n",
        "drive.mount('/content/drive')"
      ],
      "metadata": {
        "id": "sC4LqMO07Aai",
        "colab": {
          "base_uri": "https://localhost:8080/"
        },
        "outputId": "f2cd2bfd-a355-439f-fb1b-a4f68978ac06"
      },
      "execution_count": 11,
      "outputs": [
        {
          "output_type": "stream",
          "name": "stdout",
          "text": [
            "Mounted at /content/drive\n"
          ]
        }
      ]
    },
    {
      "cell_type": "code",
      "source": [
        "# # Multiple Epsilons\n",
        "epsilons = [0.1, 1.0, 10.0, 50.0, 100.0, 200.0]"
      ],
      "metadata": {
        "id": "xIuiOmOlYcAB"
      },
      "execution_count": 12,
      "outputs": []
    },
    {
      "cell_type": "code",
      "source": [
        "%%time\n",
        "dp_model = Classifier().to(device)\n",
        "criterion = nn.CrossEntropyLoss(reduction='none')\n",
        "optimizer = torch.optim.SGD(dp_model.parameters(), lr=LR)\n",
        "\n",
        "# dp\n",
        "dp_experiment_results = [trains( train_loader, optimizer, criterion, e, device, \"dp\") for e in epsilons]\n",
        "dp_acc = [dp_test(model, test_loader, device) for model in dp_experiment_results]\n",
        "np.savetxt('/content/drive/My Drive/dp_acc2.csv', dp_acc, fmt='%s')"
      ],
      "metadata": {
        "colab": {
          "base_uri": "https://localhost:8080/"
        },
        "id": "Ti6jmOYwc-B7",
        "outputId": "aaea64fe-9008-496d-a475-40f0883d4ac1"
      },
      "execution_count": null,
      "outputs": [
        {
          "metadata": {
            "tags": null
          },
          "name": "stderr",
          "output_type": "stream",
          "text": [
            "\rEpoch:   0%|          | 0/10 [00:00<?, ?epoch/s]"
          ]
        },
        {
          "metadata": {
            "tags": null
          },
          "name": "stdout",
          "output_type": "stream",
          "text": [
            "\tEpoch 0 => Loss: 2.322 \tAcc: 0.103 \n"
          ]
        },
        {
          "metadata": {
            "tags": null
          },
          "name": "stderr",
          "output_type": "stream",
          "text": [
            "\rEpoch:  10%|█         | 1/10 [04:32<40:55, 272.78s/epoch]"
          ]
        },
        {
          "metadata": {
            "tags": null
          },
          "name": "stdout",
          "output_type": "stream",
          "text": [
            "\tEpoch 1 => Loss: 11861478.931 \tAcc: 0.058 \n"
          ]
        },
        {
          "metadata": {
            "tags": null
          },
          "name": "stderr",
          "output_type": "stream",
          "text": [
            "\rEpoch:  20%|██        | 2/10 [09:03<36:11, 271.40s/epoch]"
          ]
        },
        {
          "metadata": {
            "tags": null
          },
          "name": "stdout",
          "output_type": "stream",
          "text": [
            "\tEpoch 2 => Loss: 66745854.337 \tAcc: 0.103 \n"
          ]
        },
        {
          "metadata": {
            "tags": null
          },
          "name": "stderr",
          "output_type": "stream",
          "text": [
            "\rEpoch:  30%|███       | 3/10 [13:34<31:39, 271.30s/epoch]"
          ]
        },
        {
          "metadata": {
            "tags": null
          },
          "name": "stdout",
          "output_type": "stream",
          "text": [
            "\tEpoch 3 => Loss: 169765668.547 \tAcc: 0.102 \n"
          ]
        },
        {
          "metadata": {
            "tags": null
          },
          "name": "stderr",
          "output_type": "stream",
          "text": [
            "\rEpoch:  40%|████      | 4/10 [18:05<27:07, 271.26s/epoch]"
          ]
        },
        {
          "metadata": {
            "tags": null
          },
          "name": "stdout",
          "output_type": "stream",
          "text": [
            "\tEpoch 4 => Loss: 197792588.527 \tAcc: 0.125 \n"
          ]
        },
        {
          "metadata": {
            "tags": null
          },
          "name": "stderr",
          "output_type": "stream",
          "text": [
            "\rEpoch:  50%|█████     | 5/10 [22:32<22:28, 269.68s/epoch]"
          ]
        },
        {
          "metadata": {
            "tags": null
          },
          "name": "stdout",
          "output_type": "stream",
          "text": [
            "\tEpoch 5 => Loss: 241718511.920 \tAcc: 0.095 \n"
          ]
        },
        {
          "metadata": {
            "tags": null
          },
          "name": "stderr",
          "output_type": "stream",
          "text": [
            "\rEpoch:  60%|██████    | 6/10 [26:59<17:54, 268.71s/epoch]"
          ]
        },
        {
          "metadata": {
            "tags": null
          },
          "name": "stdout",
          "output_type": "stream",
          "text": [
            "\tEpoch 6 => Loss: 333160329.120 \tAcc: 0.118 \n"
          ]
        },
        {
          "metadata": {
            "tags": null
          },
          "name": "stderr",
          "output_type": "stream",
          "text": [
            "\rEpoch:  70%|███████   | 7/10 [31:25<13:24, 268.03s/epoch]"
          ]
        },
        {
          "metadata": {
            "tags": null
          },
          "name": "stdout",
          "output_type": "stream",
          "text": [
            "\tEpoch 7 => Loss: 365433619.707 \tAcc: 0.137 \n"
          ]
        },
        {
          "metadata": {
            "tags": null
          },
          "name": "stderr",
          "output_type": "stream",
          "text": [
            "\rEpoch:  80%|████████  | 8/10 [35:51<08:54, 267.21s/epoch]"
          ]
        },
        {
          "metadata": {
            "tags": null
          },
          "name": "stdout",
          "output_type": "stream",
          "text": [
            "\tEpoch 8 => Loss: 503895557.840 \tAcc: 0.092 \n"
          ]
        },
        {
          "metadata": {
            "tags": null
          },
          "name": "stderr",
          "output_type": "stream",
          "text": [
            "\rEpoch:  90%|█████████ | 9/10 [40:16<04:26, 266.65s/epoch]"
          ]
        },
        {
          "metadata": {
            "tags": null
          },
          "name": "stdout",
          "output_type": "stream",
          "text": [
            "\tEpoch 9 => Loss: 609678969.440 \tAcc: 0.082 \n"
          ]
        },
        {
          "metadata": {
            "tags": null
          },
          "name": "stderr",
          "output_type": "stream",
          "text": [
            "Epoch: 100%|██████████| 10/10 [44:37<00:00, 267.79s/epoch]\n"
          ]
        },
        {
          "metadata": {
            "tags": null
          },
          "name": "stdout",
          "output_type": "stream",
          "text": [
            "\n",
            "Test set: Average loss: 1001058.6875, Accuracy: 803/10000 (8%)\n",
            "\n"
          ]
        },
        {
          "metadata": {
            "tags": null
          },
          "name": "stderr",
          "output_type": "stream",
          "text": [
            "\rEpoch:   0%|          | 0/10 [00:00<?, ?epoch/s]"
          ]
        },
        {
          "metadata": {
            "tags": null
          },
          "name": "stdout",
          "output_type": "stream",
          "text": [
            "\tEpoch 0 => Loss: 2.311 \tAcc: 0.107 \n"
          ]
        },
        {
          "metadata": {
            "tags": null
          },
          "name": "stderr",
          "output_type": "stream",
          "text": [
            "\rEpoch:  10%|█         | 1/10 [04:23<39:32, 263.61s/epoch]"
          ]
        },
        {
          "metadata": {
            "tags": null
          },
          "name": "stdout",
          "output_type": "stream",
          "text": [
            "\tEpoch 1 => Loss: 1170.545 \tAcc: 0.133 \n"
          ]
        },
        {
          "metadata": {
            "tags": null
          },
          "name": "stderr",
          "output_type": "stream",
          "text": [
            "\rEpoch:  20%|██        | 2/10 [08:46<35:03, 262.97s/epoch]"
          ]
        },
        {
          "metadata": {
            "tags": null
          },
          "name": "stdout",
          "output_type": "stream",
          "text": [
            "\tEpoch 2 => Loss: 2239.094 \tAcc: 0.083 \n"
          ]
        },
        {
          "metadata": {
            "tags": null
          },
          "name": "stderr",
          "output_type": "stream",
          "text": [
            "\rEpoch:  30%|███       | 3/10 [13:05<30:29, 261.43s/epoch]"
          ]
        },
        {
          "metadata": {
            "tags": null
          },
          "name": "stdout",
          "output_type": "stream",
          "text": [
            "\tEpoch 3 => Loss: 8070.422 \tAcc: 0.163 \n"
          ]
        },
        {
          "metadata": {
            "tags": null
          },
          "name": "stderr",
          "output_type": "stream",
          "text": [
            "\rEpoch:  40%|████      | 4/10 [17:23<25:59, 259.89s/epoch]"
          ]
        },
        {
          "metadata": {
            "tags": null
          },
          "name": "stdout",
          "output_type": "stream",
          "text": [
            "\tEpoch 4 => Loss: 7423.189 \tAcc: 0.137 \n"
          ]
        },
        {
          "metadata": {
            "tags": null
          },
          "name": "stderr",
          "output_type": "stream",
          "text": [
            "\rEpoch:  50%|█████     | 5/10 [21:42<21:37, 259.57s/epoch]"
          ]
        },
        {
          "metadata": {
            "tags": null
          },
          "name": "stdout",
          "output_type": "stream",
          "text": [
            "\tEpoch 5 => Loss: 10199.649 \tAcc: 0.122 \n"
          ]
        },
        {
          "metadata": {
            "tags": null
          },
          "name": "stderr",
          "output_type": "stream",
          "text": [
            "\rEpoch:  60%|██████    | 6/10 [26:01<17:17, 259.43s/epoch]"
          ]
        },
        {
          "metadata": {
            "tags": null
          },
          "name": "stdout",
          "output_type": "stream",
          "text": [
            "\tEpoch 6 => Loss: 12048.112 \tAcc: 0.093 \n"
          ]
        },
        {
          "metadata": {
            "tags": null
          },
          "name": "stderr",
          "output_type": "stream",
          "text": [
            "\rEpoch:  70%|███████   | 7/10 [30:22<12:59, 259.85s/epoch]"
          ]
        },
        {
          "metadata": {
            "tags": null
          },
          "name": "stdout",
          "output_type": "stream",
          "text": [
            "\tEpoch 7 => Loss: 16550.974 \tAcc: 0.122 \n"
          ]
        },
        {
          "metadata": {
            "tags": null
          },
          "name": "stderr",
          "output_type": "stream",
          "text": [
            "\rEpoch:  80%|████████  | 8/10 [34:43<08:40, 260.48s/epoch]"
          ]
        },
        {
          "metadata": {
            "tags": null
          },
          "name": "stdout",
          "output_type": "stream",
          "text": [
            "\tEpoch 8 => Loss: 16584.123 \tAcc: 0.115 \n"
          ]
        },
        {
          "metadata": {
            "tags": null
          },
          "name": "stderr",
          "output_type": "stream",
          "text": [
            "\rEpoch:  90%|█████████ | 9/10 [39:05<04:20, 260.96s/epoch]"
          ]
        },
        {
          "metadata": {
            "tags": null
          },
          "name": "stdout",
          "output_type": "stream",
          "text": [
            "\tEpoch 9 => Loss: 16172.633 \tAcc: 0.070 \n"
          ]
        },
        {
          "output_type": "stream",
          "name": "stderr",
          "text": [
            "Epoch: 100%|██████████| 10/10 [43:28<00:00, 260.82s/epoch]\n"
          ]
        },
        {
          "output_type": "stream",
          "name": "stdout",
          "text": [
            "\n",
            "Test set: Average loss: 38.6616, Accuracy: 832/10000 (8%)\n",
            "\n"
          ]
        },
        {
          "output_type": "stream",
          "name": "stderr",
          "text": [
            "\rEpoch:   0%|          | 0/10 [00:00<?, ?epoch/s]"
          ]
        },
        {
          "output_type": "stream",
          "name": "stdout",
          "text": [
            "\tEpoch 0 => Loss: 2.322 \tAcc: 0.132 \n"
          ]
        },
        {
          "output_type": "stream",
          "name": "stderr",
          "text": [
            "\rEpoch:  10%|█         | 1/10 [04:23<39:28, 263.14s/epoch]"
          ]
        },
        {
          "output_type": "stream",
          "name": "stdout",
          "text": [
            "\tEpoch 1 => Loss: 2.326 \tAcc: 0.125 \n"
          ]
        },
        {
          "output_type": "stream",
          "name": "stderr",
          "text": [
            "\rEpoch:  20%|██        | 2/10 [08:44<34:57, 262.22s/epoch]"
          ]
        },
        {
          "output_type": "stream",
          "name": "stdout",
          "text": [
            "\tEpoch 2 => Loss: 2.261 \tAcc: 0.205 \n"
          ]
        },
        {
          "output_type": "stream",
          "name": "stderr",
          "text": [
            "\rEpoch:  30%|███       | 3/10 [13:13<30:56, 265.23s/epoch]"
          ]
        },
        {
          "output_type": "stream",
          "name": "stdout",
          "text": [
            "\tEpoch 3 => Loss: 2.159 \tAcc: 0.262 \n"
          ]
        },
        {
          "output_type": "stream",
          "name": "stderr",
          "text": [
            "\rEpoch:  40%|████      | 4/10 [17:35<26:24, 264.11s/epoch]"
          ]
        },
        {
          "output_type": "stream",
          "name": "stdout",
          "text": [
            "\tEpoch 4 => Loss: 2.110 \tAcc: 0.270 \n"
          ]
        },
        {
          "output_type": "stream",
          "name": "stderr",
          "text": [
            "\rEpoch:  50%|█████     | 5/10 [22:05<22:10, 266.17s/epoch]"
          ]
        },
        {
          "output_type": "stream",
          "name": "stdout",
          "text": [
            "\tEpoch 5 => Loss: 2.155 \tAcc: 0.255 \n"
          ]
        },
        {
          "output_type": "stream",
          "name": "stderr",
          "text": [
            "\rEpoch:  60%|██████    | 6/10 [26:33<17:46, 266.54s/epoch]"
          ]
        },
        {
          "output_type": "stream",
          "name": "stdout",
          "text": [
            "\tEpoch 6 => Loss: 2.120 \tAcc: 0.267 \n"
          ]
        },
        {
          "output_type": "stream",
          "name": "stderr",
          "text": [
            "\rEpoch:  70%|███████   | 7/10 [31:02<13:22, 267.41s/epoch]"
          ]
        },
        {
          "output_type": "stream",
          "name": "stdout",
          "text": [
            "\tEpoch 7 => Loss: 2.118 \tAcc: 0.278 \n"
          ]
        },
        {
          "output_type": "stream",
          "name": "stderr",
          "text": [
            "\rEpoch:  80%|████████  | 8/10 [35:26<08:52, 266.31s/epoch]"
          ]
        },
        {
          "output_type": "stream",
          "name": "stdout",
          "text": [
            "\tEpoch 8 => Loss: 2.136 \tAcc: 0.302 \n"
          ]
        },
        {
          "output_type": "stream",
          "name": "stderr",
          "text": [
            "\rEpoch:  90%|█████████ | 9/10 [39:50<04:25, 265.83s/epoch]"
          ]
        },
        {
          "output_type": "stream",
          "name": "stdout",
          "text": [
            "\tEpoch 9 => Loss: 2.023 \tAcc: 0.328 \n"
          ]
        },
        {
          "output_type": "stream",
          "name": "stderr",
          "text": [
            "Epoch: 100%|██████████| 10/10 [44:19<00:00, 265.97s/epoch]\n"
          ]
        },
        {
          "output_type": "stream",
          "name": "stdout",
          "text": [
            "\n",
            "Test set: Average loss: 0.0035, Accuracy: 3736/10000 (37%)\n",
            "\n"
          ]
        },
        {
          "output_type": "stream",
          "name": "stderr",
          "text": [
            "\rEpoch:   0%|          | 0/10 [00:00<?, ?epoch/s]"
          ]
        },
        {
          "output_type": "stream",
          "name": "stdout",
          "text": [
            "\tEpoch 0 => Loss: 2.311 \tAcc: 0.125 \n"
          ]
        },
        {
          "output_type": "stream",
          "name": "stderr",
          "text": [
            "\rEpoch:  10%|█         | 1/10 [04:22<39:20, 262.24s/epoch]"
          ]
        },
        {
          "output_type": "stream",
          "name": "stdout",
          "text": [
            "\tEpoch 1 => Loss: 2.254 \tAcc: 0.257 \n"
          ]
        },
        {
          "output_type": "stream",
          "name": "stderr",
          "text": [
            "\rEpoch:  20%|██        | 2/10 [08:49<35:21, 265.25s/epoch]"
          ]
        },
        {
          "output_type": "stream",
          "name": "stdout",
          "text": [
            "\tEpoch 2 => Loss: 2.185 \tAcc: 0.365 \n"
          ]
        },
        {
          "output_type": "stream",
          "name": "stderr",
          "text": [
            "\rEpoch:  30%|███       | 3/10 [13:13<30:52, 264.71s/epoch]"
          ]
        },
        {
          "output_type": "stream",
          "name": "stdout",
          "text": [
            "\tEpoch 3 => Loss: 2.088 \tAcc: 0.375 \n"
          ]
        },
        {
          "output_type": "stream",
          "name": "stderr",
          "text": [
            "\rEpoch:  40%|████      | 4/10 [17:37<26:26, 264.49s/epoch]"
          ]
        },
        {
          "output_type": "stream",
          "name": "stdout",
          "text": [
            "\tEpoch 4 => Loss: 1.943 \tAcc: 0.390 \n"
          ]
        },
        {
          "output_type": "stream",
          "name": "stderr",
          "text": [
            "\rEpoch:  50%|█████     | 5/10 [22:00<21:59, 263.81s/epoch]"
          ]
        },
        {
          "output_type": "stream",
          "name": "stdout",
          "text": [
            "\tEpoch 5 => Loss: 1.805 \tAcc: 0.415 \n"
          ]
        },
        {
          "output_type": "stream",
          "name": "stderr",
          "text": [
            "\rEpoch:  60%|██████    | 6/10 [26:24<17:35, 263.90s/epoch]"
          ]
        },
        {
          "output_type": "stream",
          "name": "stdout",
          "text": [
            "\tEpoch 6 => Loss: 1.637 \tAcc: 0.477 \n"
          ]
        },
        {
          "output_type": "stream",
          "name": "stderr",
          "text": [
            "\rEpoch:  70%|███████   | 7/10 [30:48<13:11, 263.94s/epoch]"
          ]
        },
        {
          "output_type": "stream",
          "name": "stdout",
          "text": [
            "\tEpoch 7 => Loss: 1.482 \tAcc: 0.548 \n"
          ]
        },
        {
          "output_type": "stream",
          "name": "stderr",
          "text": [
            "\rEpoch:  80%|████████  | 8/10 [35:15<08:49, 264.98s/epoch]"
          ]
        },
        {
          "output_type": "stream",
          "name": "stdout",
          "text": [
            "\tEpoch 8 => Loss: 1.368 \tAcc: 0.560 \n"
          ]
        }
      ]
    },
    {
      "cell_type": "code",
      "source": [
        "%%time\n",
        "rdp_model = Classifier().to(device)\n",
        "criterion = nn.CrossEntropyLoss(reduction='none')\n",
        "optimizer = torch.optim.SGD(rdp_model.parameters(), lr=LR)\n",
        "\n",
        "rdp_experiment_results = [dp_train(rdp_model, train_loader, optimizer, criterion, e, device, \"rdp\") for e in epsilons]\n",
        "rdp_acc = [dp_test(model, test_loader, device) for model in rdp_experiment_results]\n",
        "np.savetxt('/content/drive/My Drive/rdp_acc2.csv', rdp_acc, fmt='%s')"
      ],
      "metadata": {
        "id": "-6uZrI-aPXKW"
      },
      "execution_count": 36,
      "outputs": []
    },
    {
      "cell_type": "code",
      "source": [
        "%%time\n",
        "zdp_model = Classifier().to(device)\n",
        "criterion = nn.CrossEntropyLoss(reduction='none')\n",
        "optimizer = torch.optim.SGD(zdp_model.parameters(), lr=LR)\n",
        "\n",
        "# zdp\n",
        "zdp_experiment_results = [dp_train(zdp_model, train_loader, optimizer, criterion, e, device, \"zdp\") for e in epsilons]\n",
        "zdp_acc = [dp_test(model, test_loader, device) for model in zdp_experiment_results]\n",
        "np.savetxt('/content/drive/My Drive/Excel/zdp_acc2.csv', zdp_acc, fmt='%s')"
      ],
      "metadata": {
        "id": "YXp2kmuKP3wy"
      },
      "execution_count": null,
      "outputs": []
    },
    {
      "cell_type": "code",
      "source": [
        "# Read saved csvs\n",
        "epsilons = [0.1, 1.0, 10.0, 50.0, 100.0, 200.0]\n",
        "\n",
        "dp_acc = pd.read_csv('/content/drive/My Drive/Excel/dp_acc2.csv', header=None)\n",
        "rdp_acc = pd.read_csv('/content/drive/My Drive/Excel/rdp_acc2.csv', header=None)\n",
        "zdp_acc = pd.read_csv('/content/drive/My Drive/Excel/zdp_acc2.csv', header=None)\n"
      ],
      "metadata": {
        "id": "y498WYrCv34k"
      },
      "execution_count": null,
      "outputs": []
    },
    {
      "cell_type": "code",
      "source": [
        "# Plot graph for different values of Epsilon\n",
        "plt.figure(figsize=(6, 3), facecolor='0.9')\n",
        "plt.plot(epsilons,dp_acc,  color=\"#4169e1\", label=\"DP\");\n",
        "plt.plot(epsilons,rdp_acc,  color=\"#CCCCFF\", label=\"RDP\");\n",
        "plt.plot(epsilons,zdp_acc, color = \"#DE3163\",  label=\"ZDP\");\n",
        "plt.legend()\n",
        "plt.xlabel('epsilon')\n",
        "plt.ylabel('accuracy')\n",
        "plt.show();"
      ],
      "metadata": {
        "id": "ZTxgIfVTgePx"
      },
      "execution_count": null,
      "outputs": []
    },
    {
      "cell_type": "code",
      "source": [
        ""
      ],
      "metadata": {
        "id": "DWV9CnJ9te5-"
      },
      "execution_count": null,
      "outputs": []
    }
  ]
}